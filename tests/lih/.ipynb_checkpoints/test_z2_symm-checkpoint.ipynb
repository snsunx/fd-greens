{
 "cells": [
  {
   "cell_type": "code",
   "execution_count": 1,
   "id": "b4ab2607",
   "metadata": {},
   "outputs": [
    {
     "name": "stderr",
     "output_type": "stream",
     "text": [
      "/home/snsunx/.local/lib/python3.8/site-packages/pyscf/lib/misc.py:46: H5pyDeprecationWarning: Using default_file_mode other than 'r' is deprecated. Pass the mode to h5py.File() instead.\n",
      "  h5py.get_config().default_file_mode = 'a'\n"
     ]
    },
    {
     "ename": "ImportError",
     "evalue": "cannot import name 'number_state_eigensolver' from 'tools' (/mnt/c/Users/snsun/Documents/Code/quantum-simulation/greens-function/tests/lih/../../src/tools.py)",
     "output_type": "error",
     "traceback": [
      "\u001b[0;31m---------------------------------------------------------------------------\u001b[0m",
      "\u001b[0;31mImportError\u001b[0m                               Traceback (most recent call last)",
      "\u001b[0;32m/tmp/ipykernel_2967/435370233.py\u001b[0m in \u001b[0;36m<module>\u001b[0;34m\u001b[0m\n\u001b[1;32m     14\u001b[0m \u001b[0;32mfrom\u001b[0m \u001b[0mqiskit\u001b[0m\u001b[0;34m.\u001b[0m\u001b[0mquantum_info\u001b[0m \u001b[0;32mimport\u001b[0m \u001b[0mSparsePauliOp\u001b[0m\u001b[0;34m\u001b[0m\u001b[0;34m\u001b[0m\u001b[0m\n\u001b[1;32m     15\u001b[0m \u001b[0;32mfrom\u001b[0m \u001b[0mqiskit\u001b[0m\u001b[0;34m.\u001b[0m\u001b[0mquantum_info\u001b[0m \u001b[0;32mimport\u001b[0m \u001b[0mPauli\u001b[0m\u001b[0;34m,\u001b[0m \u001b[0mPauliTable\u001b[0m\u001b[0;34m\u001b[0m\u001b[0;34m\u001b[0m\u001b[0m\n\u001b[0;32m---> 16\u001b[0;31m \u001b[0;32mfrom\u001b[0m \u001b[0mtools\u001b[0m \u001b[0;32mimport\u001b[0m \u001b[0mnumber_state_eigensolver\u001b[0m\u001b[0;34m\u001b[0m\u001b[0;34m\u001b[0m\u001b[0m\n\u001b[0m\u001b[1;32m     17\u001b[0m \u001b[0;32mfrom\u001b[0m \u001b[0mz2_symmetries\u001b[0m \u001b[0;32mimport\u001b[0m \u001b[0mapply_cnot_z2\u001b[0m\u001b[0;34m\u001b[0m\u001b[0;34m\u001b[0m\u001b[0m\n",
      "\u001b[0;31mImportError\u001b[0m: cannot import name 'number_state_eigensolver' from 'tools' (/mnt/c/Users/snsun/Documents/Code/quantum-simulation/greens-function/tests/lih/../../src/tools.py)"
     ]
    }
   ],
   "source": [
    "import sys\n",
    "sys.path.append('../../src/')\n",
    "from typing import Union, Sequence, Optional\n",
    "\n",
    "import numpy as np\n",
    "from qiskit import *\n",
    "from ansatze import build_ne2_ansatz\n",
    "from hamiltonians import MolecularHamiltonian\n",
    "from qiskit.utils import QuantumInstance\n",
    "from greens_function import GreensFunction\n",
    "from tools import get_quantum_instance\n",
    "from constants import HARTREE_TO_EV\n",
    "from qiskit.opflow import PauliSumOp, PrimitiveOp, Z2Symmetries\n",
    "from qiskit.quantum_info import SparsePauliOp\n",
    "from qiskit.quantum_info import Pauli, PauliTable\n",
    "from tools import number_state_eigensolver\n",
    "from z2_symmetries import apply_cnot_z2"
   ]
  },
  {
   "cell_type": "code",
   "execution_count": 6,
   "id": "2a0e83d4",
   "metadata": {},
   "outputs": [
    {
     "data": {
      "text/plain": [
       "array([-206.32171881, -206.32171881, -194.6801225 , -194.6801225 ])"
      ]
     },
     "execution_count": 6,
     "metadata": {},
     "output_type": "execute_result"
    }
   ],
   "source": [
    "ansatz = build_ne2_ansatz(4)\n",
    "hamiltonian = MolecularHamiltonian(\n",
    "    [['Li', (0, 0, 0)], ['H', (0, 0, 1.6)]], 'sto3g', \n",
    "    occupied_inds=[0], active_inds=[1, 2])\n",
    "qiskit_op = hamiltonian.qiskit_op\n",
    "number_state_eigensolver(hamiltonian, 1)[0] * HARTREE_TO_EV"
   ]
  },
  {
   "cell_type": "code",
   "execution_count": 7,
   "id": "9a7b19f6",
   "metadata": {},
   "outputs": [],
   "source": [
    "def apply_cnot_z2(pauli_sum_op: Union[PauliSumOp, SparsePauliOp], \n",
    "                  ctrl: int, \n",
    "                  targ: int) -> PauliSumOp:\n",
    "    if isinstance(pauli_sum_op, PauliSumOp):\n",
    "        prim_op = pauli_sum_op.primitive.copy()\n",
    "    elif isinstance(pauli_sum_op, SparsePauliOp):\n",
    "        prim_op = pauli_sum_op.copy()\n",
    "    else:\n",
    "        raise TypeError\n",
    "    coeffs = prim_op.coeffs.copy()\n",
    "    x_arr = prim_op.table.X.copy()\n",
    "    z_arr = prim_op.table.Z.copy()\n",
    "    n_paulis, n_qubits = x_arr.shape\n",
    "    \n",
    "    # Flip sign when the pauli is X_cZ_t or Y_cY_t\n",
    "    for i in range(n_paulis):\n",
    "        x = x_arr[i]\n",
    "        z = z_arr[i]\n",
    "        if z[targ] == x[ctrl] == True and z[ctrl] == x[targ]:\n",
    "            coeffs[i] *= -1\n",
    "    \n",
    "    x_arr[:, targ] ^= x_arr[:, ctrl] # forward on X part    \n",
    "    z_arr[:, ctrl] ^= z_arr[:, targ] # backward on Z part\n",
    "    \n",
    "    sparse_pauli_op = SparsePauliOp(np.hstack((x_arr, z_arr)), coeffs=coeffs)\n",
    "    pauli_sum_op_new = PauliSumOp(sparse_pauli_op)\n",
    "    return pauli_sum_op_new\n",
    "\n",
    "def taper(pauli_sum_op: Union[PauliSumOp, SparsePauliOp], \n",
    "          inds_tapered: Sequence[int],\n",
    "          init_state: Optional[Sequence[int]] = None) -> PauliSumOp:\n",
    "    if isinstance(pauli_sum_op, PauliSumOp):\n",
    "        prim_op = pauli_sum_op.primitive.copy()\n",
    "    elif isinstance(pauli_sum_op, SparsePauliOp):\n",
    "        prim_op = pauli_sum_op.copy()\n",
    "    else:\n",
    "        raise TypeError\n",
    "    coeffs = prim_op.coeffs.copy()\n",
    "    x_arr = prim_op.table.X.copy()\n",
    "    z_arr = prim_op.table.Z.copy()\n",
    "    n_paulis, n_qubits = x_arr.shape\n",
    "    n_tapered = len(inds_tapered)\n",
    "    if init_state is None:\n",
    "        init_state = [0] * n_tapered\n",
    "\n",
    "    for i in range(n_paulis):\n",
    "        z = z_arr[i]\n",
    "        # print(prim_op.table[i])\n",
    "        for j in range(n_tapered):\n",
    "            # print(\"j =\", j)\n",
    "            # print(z[n_qubits - 1 - j])\n",
    "            if z[j] == True and init_state[j] == 1: # Is this general?\n",
    "                coeffs[i] *= -1\n",
    "                # print(f\"{prim_op.table[i]} multiplied by -1\")\n",
    "\n",
    "    inds_kept = sorted(set(range(n_qubits)) - set(inds_tapered))\n",
    "    inds_kept = sorted([n_qubits - 1 - i for i in inds_kept]) # due to Qiskit qubit order\n",
    "    x_arr = x_arr[:, inds_kept]\n",
    "    z_arr = z_arr[:, inds_kept]\n",
    "    \n",
    "    sparse_pauli_op = SparsePauliOp(np.hstack((x_arr, z_arr)), coeffs=coeffs)\n",
    "    pauli_sum_op_new = PauliSumOp(sparse_pauli_op)\n",
    "    return pauli_sum_op_new"
   ]
  },
  {
   "cell_type": "code",
   "execution_count": 8,
   "id": "b5385cce",
   "metadata": {},
   "outputs": [],
   "source": [
    "qiskit_op_new = apply_cnot_z2(apply_cnot_z2(qiskit_op, 2, 0), 3, 1)\n",
    "qiskit_op_tapered_00 = taper(qiskit_op_new, [2, 3], init_state=[0, 0])\n",
    "qiskit_op_tapered_01 = taper(qiskit_op_new, [2, 3], init_state=[0, 1])\n",
    "qiskit_op_tapered_10 = taper(qiskit_op_new, [2, 3], init_state=[1, 0])\n",
    "qiskit_op_tapered_11 = taper(qiskit_op_new, [2, 3], init_state=[1, 1])"
   ]
  },
  {
   "cell_type": "code",
   "execution_count": 201,
   "id": "6fd7229f",
   "metadata": {},
   "outputs": [
    {
     "name": "stdout",
     "output_type": "stream",
     "text": [
      "[-213.9394244  -211.80955735 -211.80955735 -210.12598445 -210.12598445\n",
      " -210.12598445 -209.73727191 -206.32171881 -206.32171881 -204.526909\n",
      " -204.526909   -200.48123171 -194.99412728 -194.6801225  -194.6801225\n",
      " -185.14660667]\n",
      "[-210.12598445 -210.12598445 -200.48123171 -185.14660667]\n",
      "[-211.80955735 -206.32171881 -204.526909   -194.6801225 ]\n",
      "[-211.80955735 -206.32171881 -204.526909   -194.6801225 ]\n",
      "[-213.9394244  -210.12598445 -209.73727191 -194.99412728]\n"
     ]
    }
   ],
   "source": [
    "qiskit_op_arr = qiskit_op.to_matrix() * HARTREE_TO_EV\n",
    "qiskit_op_tapered_00_arr = qiskit_op_tapered_00.to_matrix() * HARTREE_TO_EV\n",
    "qiskit_op_tapered_01_arr = qiskit_op_tapered_01.to_matrix() * HARTREE_TO_EV\n",
    "qiskit_op_tapered_10_arr = qiskit_op_tapered_10.to_matrix() * HARTREE_TO_EV\n",
    "qiskit_op_tapered_11_arr = qiskit_op_tapered_11.to_matrix() * HARTREE_TO_EV\n",
    "\n",
    "eigvals = np.linalg.eigh(qiskit_op_arr)[0]\n",
    "eigvals_tapered_00 = np.linalg.eigh(qiskit_op_tapered_00_arr)[0]\n",
    "eigvals_tapered_01 = np.linalg.eigh(qiskit_op_tapered_01_arr)[0]\n",
    "eigvals_tapered_10 = np.linalg.eigh(qiskit_op_tapered_10_arr)[0]\n",
    "eigvals_tapered_11 = np.linalg.eigh(qiskit_op_tapered_11_arr)[0]\n",
    "print(eigvals)\n",
    "print(eigvals_tapered_00)\n",
    "print(eigvals_tapered_01)\n",
    "print(eigvals_tapered_10)\n",
    "print(eigvals_tapered_11)"
   ]
  },
  {
   "cell_type": "code",
   "execution_count": 10,
   "id": "08d1f510",
   "metadata": {},
   "outputs": [
    {
     "name": "stdout",
     "output_type": "stream",
     "text": [
      "-7.509157198656697 * IIII\n",
      "+ 0.1559240918074194 * IZIZ\n",
      "- 0.014015945283725094 * ZXZZ\n",
      "+ 0.014015945283725094 * ZXZI\n",
      "+ 0.1559240918074194 * ZIZI\n"
     ]
    }
   ],
   "source": [
    "print(qiskit_op_new[:5])"
   ]
  },
  {
   "cell_type": "code",
   "execution_count": 119,
   "id": "d4521410",
   "metadata": {},
   "outputs": [
    {
     "name": "stdout",
     "output_type": "stream",
     "text": [
      "-7.509157198656667 * II\n",
      "+ 0.15592409180744818 * IZ\n",
      "- 0.014015945283564694 * ZZ\n",
      "+ 0.014015945283564694 * ZI\n",
      "+ 0.1559240918074481 * ZI\n",
      "- 0.014015945283564694 * ZI\n",
      "+ 0.014015945283564694 * II\n",
      "- 0.0150398228134703 * II\n",
      "- 0.015039822813470303 * II\n",
      "+ 0.12182774215821793 * ZZ\n",
      "- 0.012144897228058425 * IZ\n",
      "+ 0.012144897228058425 * II\n",
      "- 0.012144897228058425 * ZZ\n",
      "+ 0.012144897228058425 * IZ\n",
      "+ 0.003265995499655414 * IZ\n",
      "- 0.003265995499655414 * ZZ\n",
      "- 0.003265995499655414 * II\n",
      "+ 0.003265995499655414 * ZI\n",
      "+ 0.052636515285500896 * IZ\n",
      "+ 0.055902510785156304 * IZ\n",
      "+ 0.0018710427514141413 * ZZ\n",
      "- 0.0018710427514141413 * ZI\n",
      "+ 0.055902510785156304 * ZI\n",
      "+ 0.0018710427514141413 * ZI\n",
      "- 0.0018710427514141413 * II\n",
      "+ 0.052636515285500896 * ZI\n",
      "+ 0.08447056807294723 * II\n"
     ]
    }
   ],
   "source": [
    "print(qiskit_op_tapered)"
   ]
  },
  {
   "cell_type": "code",
   "execution_count": 26,
   "id": "43d3adf3",
   "metadata": {},
   "outputs": [
    {
     "name": "stdout",
     "output_type": "stream",
     "text": [
      "[ True False]\n"
     ]
    }
   ],
   "source": [
    "print(Pauli('IX').x)"
   ]
  },
  {
   "cell_type": "code",
   "execution_count": 164,
   "id": "2c3ef13d",
   "metadata": {},
   "outputs": [
    {
     "name": "stdout",
     "output_type": "stream",
     "text": [
      "PauliTable: ['ZX']\n"
     ]
    }
   ],
   "source": [
    "pauli_table = PauliTable([1, 0, 0, 1])\n",
    "print(pauli_table)"
   ]
  },
  {
   "cell_type": "code",
   "execution_count": 167,
   "id": "ab73bcc3",
   "metadata": {},
   "outputs": [
    {
     "data": {
      "text/plain": [
       "[array([[ 0.+0.j,  1.+0.j,  0.+0.j,  0.+0.j],\n",
       "        [ 1.+0.j,  0.+0.j,  0.+0.j,  0.+0.j],\n",
       "        [ 0.+0.j,  0.+0.j,  0.+0.j, -1.+0.j],\n",
       "        [ 0.+0.j,  0.+0.j, -1.+0.j,  0.+0.j]])]"
      ]
     },
     "execution_count": 167,
     "metadata": {},
     "output_type": "execute_result"
    }
   ],
   "source": [
    "pauli_table.to_matrix()"
   ]
  },
  {
   "cell_type": "code",
   "execution_count": 168,
   "id": "e83a23f1",
   "metadata": {},
   "outputs": [
    {
     "name": "stderr",
     "output_type": "stream",
     "text": [
      "/home/snsunx/anaconda3/envs/qiskit/lib/python3.8/site-packages/qiskit/quantum_info/operators/symplectic/pauli.py:195: DeprecationWarning: Initializing Pauli from `Pauli(z=z, x=x)` kwargs is deprecated as of version 0.17.0 and will be removed no earlier than 3 months after the release date. Use tuple initialization `Pauli((z, x))` instead.\n",
      "  base_z, base_x, base_phase = self._from_array_deprecated(z, x)\n"
     ]
    }
   ],
   "source": [
    "pauli = Pauli(x=[1, 0], z=[0, 1])"
   ]
  },
  {
   "cell_type": "code",
   "execution_count": 169,
   "id": "0f907da1",
   "metadata": {},
   "outputs": [
    {
     "data": {
      "text/plain": [
       "array([[ 0.+0.j,  1.+0.j,  0.+0.j,  0.+0.j],\n",
       "       [ 1.+0.j,  0.+0.j,  0.+0.j,  0.+0.j],\n",
       "       [ 0.+0.j,  0.+0.j,  0.+0.j, -1.+0.j],\n",
       "       [ 0.+0.j,  0.+0.j, -1.+0.j,  0.+0.j]])"
      ]
     },
     "execution_count": 169,
     "metadata": {},
     "output_type": "execute_result"
    }
   ],
   "source": [
    "pauli.to_matrix()"
   ]
  },
  {
   "cell_type": "code",
   "execution_count": 8,
   "id": "4e86f0e1",
   "metadata": {},
   "outputs": [
    {
     "data": {
      "text/plain": [
       "SparsePauliOp([[ True,  True, False, False]],\n",
       "              coeffs=[1.+0.j])"
      ]
     },
     "execution_count": 8,
     "metadata": {},
     "output_type": "execute_result"
    }
   ],
   "source": [
    "sparse_pauli_op = SparsePauliOp(PauliTable.from_labels(['ZX', 'ZZ', 'YY', 'XX']))\n",
    "sparse_pauli_op[3]"
   ]
  },
  {
   "cell_type": "code",
   "execution_count": 185,
   "id": "648a8e6c",
   "metadata": {},
   "outputs": [],
   "source": [
    "sp = qiskit_op.primitive"
   ]
  },
  {
   "cell_type": "code",
   "execution_count": 189,
   "id": "65b36f84",
   "metadata": {},
   "outputs": [
    {
     "data": {
      "text/plain": [
       "PauliSumOp(SparsePauliOp([[False, False, False, False, False, False, False, False],\n",
       "               [False, False, False, False,  True, False, False, False],\n",
       "               [ True, False,  True, False,  True,  True,  True, False],\n",
       "               [ True, False,  True, False, False,  True, False, False],\n",
       "               [False, False, False, False, False,  True, False, False],\n",
       "               [False,  True, False,  True, False,  True,  True,  True],\n",
       "               [False,  True, False,  True, False, False,  True, False],\n",
       "               [False, False, False, False, False, False,  True, False],\n",
       "               [False, False, False, False, False, False, False,  True],\n",
       "               [False, False, False, False,  True,  True, False, False],\n",
       "               [ True, False,  True, False,  True, False,  True, False],\n",
       "               [ True, False,  True, False, False, False, False, False],\n",
       "               [False,  True, False,  True,  True,  True,  True,  True],\n",
       "               [False,  True, False,  True,  True, False,  True, False],\n",
       "               [ True,  True,  True,  True,  True, False, False,  True],\n",
       "               [ True,  True,  True,  True,  True,  True, False, False],\n",
       "               [ True,  True,  True,  True, False, False,  True,  True],\n",
       "               [ True,  True,  True,  True, False,  True,  True, False],\n",
       "               [False, False, False, False,  True, False,  True, False],\n",
       "               [False, False, False, False,  True, False, False,  True],\n",
       "               [ True, False,  True, False,  True,  True,  True,  True],\n",
       "               [ True, False,  True, False, False,  True, False,  True],\n",
       "               [False, False, False, False, False,  True,  True, False],\n",
       "               [False,  True, False,  True, False,  True, False,  True],\n",
       "               [False,  True, False,  True, False, False, False, False],\n",
       "               [False, False, False, False, False,  True, False,  True],\n",
       "               [False, False, False, False, False, False,  True,  True]],\n",
       "              coeffs=[-7.50915720e+00+0.j,  1.55924092e-01+0.j,  1.40159453e-02+0.j,\n",
       "  1.40159453e-02+0.j,  1.55924092e-01+0.j,  1.40159453e-02+0.j,\n",
       "  1.40159453e-02+0.j, -1.50398228e-02+0.j, -1.50398228e-02+0.j,\n",
       "  1.21827742e-01+0.j,  1.21448972e-02+0.j,  1.21448972e-02+0.j,\n",
       "  1.21448972e-02+0.j,  1.21448972e-02+0.j,  3.26599550e-03+0.j,\n",
       " -3.26599550e-03+0.j, -3.26599550e-03+0.j,  3.26599550e-03+0.j,\n",
       "  5.26365153e-02+0.j,  5.59025108e-02+0.j, -1.87104275e-03+0.j,\n",
       " -1.87104275e-03+0.j,  5.59025108e-02+0.j, -1.87104275e-03+0.j,\n",
       " -1.87104275e-03+0.j,  5.26365153e-02+0.j,  8.44705681e-02+0.j]), coeff=1.0)"
      ]
     },
     "execution_count": 189,
     "metadata": {},
     "output_type": "execute_result"
    }
   ],
   "source": [
    "PrimitiveOp(sp)"
   ]
  },
  {
   "cell_type": "code",
   "execution_count": 190,
   "id": "2cdb7529",
   "metadata": {},
   "outputs": [
    {
     "data": {
      "text/plain": [
       "PauliSumOp(SparsePauliOp([[False, False, False, False, False, False, False, False],\n",
       "               [False, False, False, False,  True, False, False, False],\n",
       "               [ True, False,  True, False,  True,  True,  True, False],\n",
       "               [ True, False,  True, False, False,  True, False, False],\n",
       "               [False, False, False, False, False,  True, False, False],\n",
       "               [False,  True, False,  True, False,  True,  True,  True],\n",
       "               [False,  True, False,  True, False, False,  True, False],\n",
       "               [False, False, False, False, False, False,  True, False],\n",
       "               [False, False, False, False, False, False, False,  True],\n",
       "               [False, False, False, False,  True,  True, False, False],\n",
       "               [ True, False,  True, False,  True, False,  True, False],\n",
       "               [ True, False,  True, False, False, False, False, False],\n",
       "               [False,  True, False,  True,  True,  True,  True,  True],\n",
       "               [False,  True, False,  True,  True, False,  True, False],\n",
       "               [ True,  True,  True,  True,  True, False, False,  True],\n",
       "               [ True,  True,  True,  True,  True,  True, False, False],\n",
       "               [ True,  True,  True,  True, False, False,  True,  True],\n",
       "               [ True,  True,  True,  True, False,  True,  True, False],\n",
       "               [False, False, False, False,  True, False,  True, False],\n",
       "               [False, False, False, False,  True, False, False,  True],\n",
       "               [ True, False,  True, False,  True,  True,  True,  True],\n",
       "               [ True, False,  True, False, False,  True, False,  True],\n",
       "               [False, False, False, False, False,  True,  True, False],\n",
       "               [False,  True, False,  True, False,  True, False,  True],\n",
       "               [False,  True, False,  True, False, False, False, False],\n",
       "               [False, False, False, False, False,  True, False,  True],\n",
       "               [False, False, False, False, False, False,  True,  True]],\n",
       "              coeffs=[-7.50915720e+00+0.j,  1.55924092e-01+0.j,  1.40159453e-02+0.j,\n",
       "  1.40159453e-02+0.j,  1.55924092e-01+0.j,  1.40159453e-02+0.j,\n",
       "  1.40159453e-02+0.j, -1.50398228e-02+0.j, -1.50398228e-02+0.j,\n",
       "  1.21827742e-01+0.j,  1.21448972e-02+0.j,  1.21448972e-02+0.j,\n",
       "  1.21448972e-02+0.j,  1.21448972e-02+0.j,  3.26599550e-03+0.j,\n",
       " -3.26599550e-03+0.j, -3.26599550e-03+0.j,  3.26599550e-03+0.j,\n",
       "  5.26365153e-02+0.j,  5.59025108e-02+0.j, -1.87104275e-03+0.j,\n",
       " -1.87104275e-03+0.j,  5.59025108e-02+0.j, -1.87104275e-03+0.j,\n",
       " -1.87104275e-03+0.j,  5.26365153e-02+0.j,  8.44705681e-02+0.j]), coeff=1.0)"
      ]
     },
     "execution_count": 190,
     "metadata": {},
     "output_type": "execute_result"
    }
   ],
   "source": [
    "PauliSumOp(sp)"
   ]
  },
  {
   "cell_type": "code",
   "execution_count": 5,
   "id": "9b577c28",
   "metadata": {},
   "outputs": [],
   "source": [
    "x_ops = SparsePauliOp(PauliTable.from_labels(['IIIX', 'IIXZ', 'IXZZ', 'XZZZ']))\n",
    "y_ops = SparsePauliOp(PauliTable.from_labels(['IIIY', 'IIYZ', 'IYZZ', 'YZZZ']))"
   ]
  },
  {
   "cell_type": "code",
   "execution_count": 6,
   "id": "4dfccaf9",
   "metadata": {},
   "outputs": [
    {
     "name": "stdout",
     "output_type": "stream",
     "text": [
      "['IIIX', 'IZXZ', 'ZYZY', 'YIYZ']\n",
      "['IZIY', 'ZZYZ', 'ZXZY', 'XIYZ']\n"
     ]
    }
   ],
   "source": [
    "x_ops_trans = apply_cnot_z2(apply_cnot_z2(x_ops, 2, 0), 3, 1).primitive.table.to_labels()\n",
    "y_ops_trans = apply_cnot_z2(apply_cnot_z2(y_ops, 2, 0), 3, 1).primitive.table.to_labels()\n",
    "print(x_ops_trans)\n",
    "print(y_ops_trans)"
   ]
  },
  {
   "cell_type": "code",
   "execution_count": 2,
   "id": "5f36b1f9",
   "metadata": {},
   "outputs": [],
   "source": [
    "table = PauliTable.from_labels(['ZX'])"
   ]
  },
  {
   "cell_type": "code",
   "execution_count": 3,
   "id": "8f2d35a2",
   "metadata": {},
   "outputs": [
    {
     "data": {
      "text/plain": [
       "array([[ True, False]])"
      ]
     },
     "execution_count": 3,
     "metadata": {},
     "output_type": "execute_result"
    }
   ],
   "source": [
    "table.X"
   ]
  },
  {
   "cell_type": "code",
   "execution_count": 4,
   "id": "2d84a42e",
   "metadata": {},
   "outputs": [
    {
     "data": {
      "text/plain": [
       "array([[False,  True]])"
      ]
     },
     "execution_count": 4,
     "metadata": {},
     "output_type": "execute_result"
    }
   ],
   "source": [
    "table.Z"
   ]
  },
  {
   "cell_type": "code",
   "execution_count": 12,
   "id": "bf122781",
   "metadata": {},
   "outputs": [
    {
     "data": {
      "text/plain": [
       "array([[ 1.+0.j,  0.+0.j,  0.+0.j,  0.+0.j,  0.+0.j,  0.+0.j,  0.+0.j,\n",
       "         0.+0.j,  0.+0.j,  0.+0.j,  0.+0.j,  0.+0.j,  0.+0.j,  0.+0.j,\n",
       "         0.+0.j,  0.+0.j],\n",
       "       [ 0.+0.j,  1.+0.j,  0.+0.j,  0.+0.j,  0.+0.j,  0.+0.j,  0.+0.j,\n",
       "         0.+0.j,  0.+0.j,  0.+0.j,  0.+0.j,  0.+0.j,  0.+0.j,  0.+0.j,\n",
       "         0.+0.j,  0.+0.j],\n",
       "       [ 0.+0.j,  0.+0.j, -1.+0.j,  0.+0.j,  0.+0.j,  0.+0.j,  0.+0.j,\n",
       "         0.+0.j,  0.+0.j,  0.+0.j,  0.+0.j,  0.+0.j,  0.+0.j,  0.+0.j,\n",
       "         0.+0.j,  0.+0.j],\n",
       "       [ 0.+0.j,  0.+0.j,  0.+0.j, -1.+0.j,  0.+0.j,  0.+0.j,  0.+0.j,\n",
       "         0.+0.j,  0.+0.j,  0.+0.j,  0.+0.j,  0.+0.j,  0.+0.j,  0.+0.j,\n",
       "         0.+0.j,  0.+0.j],\n",
       "       [ 0.+0.j,  0.+0.j,  0.+0.j,  0.+0.j,  1.+0.j,  0.+0.j,  0.+0.j,\n",
       "         0.+0.j,  0.+0.j,  0.+0.j,  0.+0.j,  0.+0.j,  0.+0.j,  0.+0.j,\n",
       "         0.+0.j,  0.+0.j],\n",
       "       [ 0.+0.j,  0.+0.j,  0.+0.j,  0.+0.j,  0.+0.j,  1.+0.j,  0.+0.j,\n",
       "         0.+0.j,  0.+0.j,  0.+0.j,  0.+0.j,  0.+0.j,  0.+0.j,  0.+0.j,\n",
       "         0.+0.j,  0.+0.j],\n",
       "       [ 0.+0.j,  0.+0.j,  0.+0.j,  0.+0.j,  0.+0.j,  0.+0.j, -1.+0.j,\n",
       "         0.+0.j,  0.+0.j,  0.+0.j,  0.+0.j,  0.+0.j,  0.+0.j,  0.+0.j,\n",
       "         0.+0.j,  0.+0.j],\n",
       "       [ 0.+0.j,  0.+0.j,  0.+0.j,  0.+0.j,  0.+0.j,  0.+0.j,  0.+0.j,\n",
       "        -1.+0.j,  0.+0.j,  0.+0.j,  0.+0.j,  0.+0.j,  0.+0.j,  0.+0.j,\n",
       "         0.+0.j,  0.+0.j],\n",
       "       [ 0.+0.j,  0.+0.j,  0.+0.j,  0.+0.j,  0.+0.j,  0.+0.j,  0.+0.j,\n",
       "         0.+0.j, -1.+0.j,  0.+0.j,  0.+0.j,  0.+0.j,  0.+0.j,  0.+0.j,\n",
       "         0.+0.j,  0.+0.j],\n",
       "       [ 0.+0.j,  0.+0.j,  0.+0.j,  0.+0.j,  0.+0.j,  0.+0.j,  0.+0.j,\n",
       "         0.+0.j,  0.+0.j, -1.+0.j,  0.+0.j,  0.+0.j,  0.+0.j,  0.+0.j,\n",
       "         0.+0.j,  0.+0.j],\n",
       "       [ 0.+0.j,  0.+0.j,  0.+0.j,  0.+0.j,  0.+0.j,  0.+0.j,  0.+0.j,\n",
       "         0.+0.j,  0.+0.j,  0.+0.j,  1.+0.j,  0.+0.j,  0.+0.j,  0.+0.j,\n",
       "         0.+0.j,  0.+0.j],\n",
       "       [ 0.+0.j,  0.+0.j,  0.+0.j,  0.+0.j,  0.+0.j,  0.+0.j,  0.+0.j,\n",
       "         0.+0.j,  0.+0.j,  0.+0.j,  0.+0.j,  1.+0.j,  0.+0.j,  0.+0.j,\n",
       "         0.+0.j,  0.+0.j],\n",
       "       [ 0.+0.j,  0.+0.j,  0.+0.j,  0.+0.j,  0.+0.j,  0.+0.j,  0.+0.j,\n",
       "         0.+0.j,  0.+0.j,  0.+0.j,  0.+0.j,  0.+0.j, -1.+0.j,  0.+0.j,\n",
       "         0.+0.j,  0.+0.j],\n",
       "       [ 0.+0.j,  0.+0.j,  0.+0.j,  0.+0.j,  0.+0.j,  0.+0.j,  0.+0.j,\n",
       "         0.+0.j,  0.+0.j,  0.+0.j,  0.+0.j,  0.+0.j,  0.+0.j, -1.+0.j,\n",
       "         0.+0.j,  0.+0.j],\n",
       "       [ 0.+0.j,  0.+0.j,  0.+0.j,  0.+0.j,  0.+0.j,  0.+0.j,  0.+0.j,\n",
       "         0.+0.j,  0.+0.j,  0.+0.j,  0.+0.j,  0.+0.j,  0.+0.j,  0.+0.j,\n",
       "         1.+0.j,  0.+0.j],\n",
       "       [ 0.+0.j,  0.+0.j,  0.+0.j,  0.+0.j,  0.+0.j,  0.+0.j,  0.+0.j,\n",
       "         0.+0.j,  0.+0.j,  0.+0.j,  0.+0.j,  0.+0.j,  0.+0.j,  0.+0.j,\n",
       "         0.+0.j,  1.+0.j]])"
      ]
     },
     "execution_count": 12,
     "metadata": {},
     "output_type": "execute_result"
    }
   ],
   "source": [
    "import numpy as np\n",
    "Pauli('ZIZI').to_matrix()"
   ]
  },
  {
   "cell_type": "code",
   "execution_count": 13,
   "id": "b29befe3",
   "metadata": {},
   "outputs": [],
   "source": [
    "from tools import *"
   ]
  },
  {
   "cell_type": "code",
   "execution_count": 30,
   "id": "a89b7783",
   "metadata": {},
   "outputs": [
    {
     "name": "stdout",
     "output_type": "stream",
     "text": [
      "[3, 5, 6, 9, 10, 12]\n"
     ]
    }
   ],
   "source": [
    "inds = get_number_state_indices(4, 2)\n",
    "print(inds)"
   ]
  },
  {
   "cell_type": "code",
   "execution_count": 31,
   "id": "590d4651",
   "metadata": {},
   "outputs": [
    {
     "name": "stdout",
     "output_type": "stream",
     "text": [
      "[12, 10, 9, 6, 5, 3]\n"
     ]
    }
   ],
   "source": [
    "inds_rev = [15 - i for i in inds]\n",
    "print(inds_rev)"
   ]
  },
  {
   "cell_type": "code",
   "execution_count": 23,
   "id": "87ab28bc",
   "metadata": {},
   "outputs": [],
   "source": [
    "vec[[1,3]] = 0.5"
   ]
  },
  {
   "cell_type": "code",
   "execution_count": 27,
   "id": "a20989b7",
   "metadata": {},
   "outputs": [
    {
     "data": {
      "text/plain": [
       "[7, 11, 13, 14]"
      ]
     },
     "execution_count": 27,
     "metadata": {},
     "output_type": "execute_result"
    }
   ],
   "source": [
    "get_number_state_indices(4, 3)"
   ]
  },
  {
   "cell_type": "code",
   "execution_count": 28,
   "id": "0c2fb464",
   "metadata": {},
   "outputs": [
    {
     "data": {
      "text/plain": [
       "<list_reverseiterator at 0x7fb0224c8070>"
      ]
     },
     "execution_count": 28,
     "metadata": {},
     "output_type": "execute_result"
    }
   ],
   "source": [
    "reversed([1, 2, 3])"
   ]
  },
  {
   "cell_type": "code",
   "execution_count": 34,
   "id": "48c17a16",
   "metadata": {},
   "outputs": [
    {
     "data": {
      "text/plain": [
       "'dcba'"
      ]
     },
     "execution_count": 34,
     "metadata": {},
     "output_type": "execute_result"
    }
   ],
   "source": [
    "'abcd'[::-1]"
   ]
  },
  {
   "cell_type": "code",
   "execution_count": 35,
   "id": "b8968b3c",
   "metadata": {},
   "outputs": [
    {
     "data": {
      "text/plain": [
       "array([[ 0.+0.j,  1.+0.j,  0.+0.j,  0.+0.j],\n",
       "       [ 1.+0.j,  0.+0.j,  0.+0.j,  0.+0.j],\n",
       "       [ 0.+0.j,  0.+0.j,  0.+0.j, -1.+0.j],\n",
       "       [ 0.+0.j,  0.+0.j, -1.+0.j,  0.+0.j]])"
      ]
     },
     "execution_count": 35,
     "metadata": {},
     "output_type": "execute_result"
    }
   ],
   "source": [
    "Pauli('ZX').to_matrix()"
   ]
  },
  {
   "cell_type": "code",
   "execution_count": 37,
   "id": "358c7bc1",
   "metadata": {},
   "outputs": [
    {
     "data": {
      "text/plain": [
       "[3, 2, 1]"
      ]
     },
     "execution_count": 37,
     "metadata": {},
     "output_type": "execute_result"
    }
   ],
   "source": [
    "sorted([1, 3, 2], reverse=True)"
   ]
  },
  {
   "cell_type": "code",
   "execution_count": null,
   "id": "3244c5a7",
   "metadata": {},
   "outputs": [],
   "source": []
  }
 ],
 "metadata": {
  "kernelspec": {
   "display_name": "Python (Qiskit)",
   "language": "python",
   "name": "qiskit"
  },
  "language_info": {
   "codemirror_mode": {
    "name": "ipython",
    "version": 3
   },
   "file_extension": ".py",
   "mimetype": "text/x-python",
   "name": "python",
   "nbconvert_exporter": "python",
   "pygments_lexer": "ipython3",
   "version": "3.8.10"
  }
 },
 "nbformat": 4,
 "nbformat_minor": 5
}
