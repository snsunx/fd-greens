{
 "cells": [
  {
   "cell_type": "code",
   "execution_count": 188,
   "id": "1992bea9",
   "metadata": {},
   "outputs": [],
   "source": [
    "import sys\n",
    "sys.path.append('../../src/')\n",
    "from typing import Union\n",
    "\n",
    "import numpy as np\n",
    "from qiskit import *\n",
    "from ansatze import build_ne2_ansatz\n",
    "from hamiltonians import MolecularHamiltonian\n",
    "from qiskit.utils import QuantumInstance\n",
    "from greens_function import GreensFunction\n",
    "from tools import get_quantum_instance\n",
    "from constants import HARTREE_TO_EV\n",
    "from qiskit.opflow import PauliSumOp, PrimitiveOp, Z2Symmetries\n",
    "from qiskit.quantum_info import SparsePauliOp\n",
    "from qiskit.quantum_info import Pauli, PauliTable"
   ]
  },
  {
   "cell_type": "code",
   "execution_count": 91,
   "id": "516e8d5b",
   "metadata": {},
   "outputs": [
    {
     "name": "stdout",
     "output_type": "stream",
     "text": [
      "-7.509157198656667 * IIII\n",
      "+ 0.15592409180744818 * IIIZ\n",
      "+ 0.014015945283564694 * IYZY\n",
      "+ 0.014015945283564694 * IXZX\n",
      "+ 0.1559240918074481 * IIZI\n",
      "+ 0.014015945283564694 * YZYI\n",
      "+ 0.014015945283564694 * XZXI\n",
      "- 0.0150398228134703 * IZII\n",
      "- 0.015039822813470303 * ZIII\n",
      "+ 0.12182774215821793 * IIZZ\n",
      "+ 0.012144897228058425 * IYIY\n",
      "+ 0.012144897228058425 * IXIX\n",
      "+ 0.012144897228058425 * YZYZ\n",
      "+ 0.012144897228058425 * XZXZ\n",
      "+ 0.003265995499655414 * YXXY\n",
      "- 0.003265995499655414 * XXYY\n",
      "- 0.003265995499655414 * YYXX\n",
      "+ 0.003265995499655414 * XYYX\n",
      "+ 0.052636515285500896 * IZIZ\n",
      "+ 0.055902510785156304 * ZIIZ\n",
      "- 0.0018710427514141413 * ZYZY\n",
      "- 0.0018710427514141413 * ZXZX\n",
      "+ 0.055902510785156304 * IZZI\n",
      "- 0.0018710427514141413 * YIYI\n",
      "- 0.0018710427514141413 * XIXI\n",
      "+ 0.052636515285500896 * ZIZI\n",
      "+ 0.08447056807294723 * ZZII\n"
     ]
    }
   ],
   "source": [
    "bond_length = 1.6\n",
    "cache_read = True\n",
    "cache_write = False\n",
    "\n",
    "ansatz = build_ne2_ansatz(4)\n",
    "hamiltonian = MolecularHamiltonian(\n",
    "    [['Li', (0, 0, 0)], ['H', (0, 0, bond_length)]], 'sto3g', \n",
    "    occupied_inds=[0], active_inds=[1, 2])\n",
    "qiskit_op = hamiltonian.qiskit_op\n",
    "print(qiskit_op)"
   ]
  },
  {
   "cell_type": "code",
   "execution_count": 11,
   "id": "6efaf0f5",
   "metadata": {},
   "outputs": [
    {
     "data": {
      "text/plain": [
       "dict_keys(['_instance_id', '_primitive', '_coeff', '_grouping_type'])"
      ]
     },
     "execution_count": 11,
     "metadata": {},
     "output_type": "execute_result"
    }
   ],
   "source": [
    "qiskit_op.__dict__.keys()"
   ]
  },
  {
   "cell_type": "code",
   "execution_count": 135,
   "id": "ab483455",
   "metadata": {},
   "outputs": [
    {
     "name": "stdout",
     "output_type": "stream",
     "text": [
      "PauliTable: ['IYZY']\n"
     ]
    }
   ],
   "source": [
    "print(qiskit_op._primitive.table[2])"
   ]
  },
  {
   "cell_type": "code",
   "execution_count": 23,
   "id": "51b8bef8",
   "metadata": {},
   "outputs": [],
   "source": [
    "table = qiskit_op._primitive.table"
   ]
  },
  {
   "cell_type": "code",
   "execution_count": 34,
   "id": "aebd9096",
   "metadata": {},
   "outputs": [
    {
     "data": {
      "text/plain": [
       "False"
      ]
     },
     "execution_count": 34,
     "metadata": {},
     "output_type": "execute_result"
    }
   ],
   "source": [
    "True ^ True"
   ]
  },
  {
   "cell_type": "code",
   "execution_count": 170,
   "id": "10e6335f",
   "metadata": {},
   "outputs": [],
   "source": [
    "def apply_cnot_z2(pauli_sum_op: Union[PauliSumOp, SparsePauliOp], \n",
    "                  ctrl: int, \n",
    "                  targ: int) -> PauliSumOp:\n",
    "    if isinstance(pauli_sum_op, PauliSumOp):\n",
    "        prim_op = pauli_sum_op.primitive.copy()\n",
    "    elif isinstance(pauli_sum_op, SparsePauliOp):\n",
    "        prim_op = pauli_sum_op.copy()\n",
    "    else:\n",
    "        raise TypeError\n",
    "    coeffs = prim_op.coeffs.copy()\n",
    "    x_arr = prim_op.table.X.copy()\n",
    "    z_arr = prim_op.table.Z.copy()\n",
    "    n_paulis, n_qubits = x_arr.shape\n",
    "    \n",
    "    # Flip sign when the pauli is X_cZ_t or Y_cY_t\n",
    "    for i in range(n_paulis):\n",
    "        x = x_arr[i]\n",
    "        z = z_arr[i]\n",
    "        if z[targ] == x[ctrl] == True and z[ctrl] == x[targ]:\n",
    "            coeffs[i] *= -1\n",
    "    \n",
    "    x_arr[:, targ] ^= x_arr[:, ctrl] # forward on X part    \n",
    "    z_arr[:, ctrl] ^= z_arr[:, targ] # backward on Z part\n",
    "    \n",
    "    sparse_pauli_op = SparsePauliOp(np.hstack((x_arr, z_arr)), coeffs=coeffs)\n",
    "    pauli_sum_op_new = PauliSumOp(sparse_pauli_op)\n",
    "    return pauli_sum_op_new\n",
    "\n",
    "def taper(pauli_sum_op: Union[PauliSumOp, SparsePauliOp], \n",
    "          inds_tapered: Sequence[int],\n",
    "          init_state: Optional[Sequence[int]] = None) -> PauliSumOp:\n",
    "    if isinstance(pauli_sum_op, PauliSumOp):\n",
    "        prim_op = pauli_sum_op.primitive.copy()\n",
    "    elif isinstance(pauli_sum_op, SparsePauliOp):\n",
    "        prim_op = pauli_sum_op.copy()\n",
    "    else:\n",
    "        raise TypeError\n",
    "    coeffs = prim_op.coeffs.copy()\n",
    "    x_arr = prim_op.table.X.copy()\n",
    "    z_arr = prim_op.table.Z.copy()\n",
    "    n_paulis, n_qubits = x_arr.shape\n",
    "    n_tapered = len(inds_tapered)\n",
    "    if init_state is None:\n",
    "        init_state = [0] * n_tapered\n",
    "\n",
    "    for i in range(n_paulis):\n",
    "        z = z_arr[i]\n",
    "        # print(prim_op.table[i])\n",
    "        for j in range(n_tapered):\n",
    "            # print(\"j =\", j)\n",
    "            # print(z[n_qubits - 1 - j])\n",
    "            if z[j] == True and init_state[j] == 1: # Is this general?\n",
    "                coeffs[i] *= -1\n",
    "                # print(f\"{prim_op.table[i]} multiplied by -1\")\n",
    "\n",
    "    inds_kept = sorted(set(range(n_qubits)) - set(inds_tapered))\n",
    "    inds_kept = sorted([n_qubits - 1 - i for i in inds_kept]) # due to Qiskit qubit order\n",
    "    x_arr = x_arr[:, inds_kept]\n",
    "    z_arr = z_arr[:, inds_kept]\n",
    "    \n",
    "    sparse_pauli_op = SparsePauliOp(np.hstack((x_arr, z_arr)), coeffs=coeffs)\n",
    "    pauli_sum_op_new = PauliSumOp(sparse_pauli_op)\n",
    "    return pauli_sum_op_new"
   ]
  },
  {
   "cell_type": "code",
   "execution_count": 171,
   "id": "5e6c3125",
   "metadata": {},
   "outputs": [
    {
     "name": "stdout",
     "output_type": "stream",
     "text": [
      "PauliTable: ['ZXZZ'] multiplied by -1\n",
      "PauliTable: ['ZXZI'] multiplied by -1\n",
      "PauliTable: ['ZIZI'] multiplied by -1\n",
      "PauliTable: ['XZZI'] multiplied by -1\n",
      "PauliTable: ['ZZZZ'] multiplied by -1\n",
      "PauliTable: ['XIZZ'] multiplied by -1\n",
      "PauliTable: ['YYZZ'] multiplied by -1\n",
      "PauliTable: ['YYZI'] multiplied by -1\n",
      "PauliTable: ['IXZZ'] multiplied by -1\n",
      "PauliTable: ['IXZI'] multiplied by -1\n",
      "PauliTable: ['ZZZI'] multiplied by -1\n",
      "PauliTable: ['XIZI'] multiplied by -1\n",
      "PauliTable: ['IIZI'] multiplied by -1\n",
      "PauliTable: ['IZIZ'] multiplied by -1\n",
      "PauliTable: ['ZXZZ'] multiplied by -1\n",
      "PauliTable: ['ZZZZ'] multiplied by -1\n",
      "PauliTable: ['IXIZ'] multiplied by -1\n",
      "PauliTable: ['XIZZ'] multiplied by -1\n",
      "PauliTable: ['XIIZ'] multiplied by -1\n",
      "PauliTable: ['YYIZ'] multiplied by -1\n",
      "PauliTable: ['YYZZ'] multiplied by -1\n",
      "PauliTable: ['IIIZ'] multiplied by -1\n",
      "PauliTable: ['ZZIZ'] multiplied by -1\n",
      "PauliTable: ['IXZZ'] multiplied by -1\n",
      "PauliTable: ['IZIZ'] multiplied by -1\n",
      "PauliTable: ['ZXZZ'] multiplied by -1\n",
      "PauliTable: ['ZXZZ'] multiplied by -1\n",
      "PauliTable: ['ZXZI'] multiplied by -1\n",
      "PauliTable: ['ZIZI'] multiplied by -1\n",
      "PauliTable: ['XZZI'] multiplied by -1\n",
      "PauliTable: ['ZZZZ'] multiplied by -1\n",
      "PauliTable: ['ZZZZ'] multiplied by -1\n",
      "PauliTable: ['IXIZ'] multiplied by -1\n",
      "PauliTable: ['XIZZ'] multiplied by -1\n",
      "PauliTable: ['XIZZ'] multiplied by -1\n",
      "PauliTable: ['XIIZ'] multiplied by -1\n",
      "PauliTable: ['YYIZ'] multiplied by -1\n",
      "PauliTable: ['YYZZ'] multiplied by -1\n",
      "PauliTable: ['YYZZ'] multiplied by -1\n",
      "PauliTable: ['YYZI'] multiplied by -1\n",
      "PauliTable: ['IIIZ'] multiplied by -1\n",
      "PauliTable: ['ZZIZ'] multiplied by -1\n",
      "PauliTable: ['IXZZ'] multiplied by -1\n",
      "PauliTable: ['IXZZ'] multiplied by -1\n",
      "PauliTable: ['IXZI'] multiplied by -1\n",
      "PauliTable: ['ZZZI'] multiplied by -1\n",
      "PauliTable: ['XIZI'] multiplied by -1\n",
      "PauliTable: ['IIZI'] multiplied by -1\n"
     ]
    }
   ],
   "source": [
    "qiskit_op_new = cnot(cnot(qiskit_op, 2, 0), 3, 1)\n",
    "qiskit_op_tapered_00 = taper(qiskit_op_new, [2, 3], init_state=[0, 0])\n",
    "qiskit_op_tapered_01 = taper(qiskit_op_new, [2, 3], init_state=[0, 1])\n",
    "qiskit_op_tapered_10 = taper(qiskit_op_new, [2, 3], init_state=[1, 0])\n",
    "qiskit_op_tapered_11 = taper(qiskit_op_new, [2, 3], init_state=[1, 1])"
   ]
  },
  {
   "cell_type": "code",
   "execution_count": 160,
   "id": "07068be8",
   "metadata": {},
   "outputs": [
    {
     "name": "stdout",
     "output_type": "stream",
     "text": [
      "[-213.9394244  -211.80955735 -211.80955735 -210.12598445 -210.12598445\n",
      " -210.12598445 -209.73727191 -206.32171881 -206.32171881 -204.526909\n",
      " -204.526909   -200.48123171 -194.99412728 -194.6801225  -194.6801225\n",
      " -185.14660667]\n",
      "[-210.12598445 -210.12598445 -200.48123171 -185.14660667]\n",
      "[-211.80955735 -206.32171881 -204.526909   -194.6801225 ]\n",
      "[-211.80955735 -206.32171881 -204.526909   -194.6801225 ]\n",
      "[-213.9394244  -210.12598445 -209.73727191 -194.99412728]\n"
     ]
    }
   ],
   "source": [
    "qiskit_op_arr = qiskit_op.to_matrix() * HARTREE_TO_EV\n",
    "qiskit_op_tapered_00_arr = qiskit_op_tapered_00.to_matrix() * HARTREE_TO_EV\n",
    "qiskit_op_tapered_01_arr = qiskit_op_tapered_01.to_matrix() * HARTREE_TO_EV\n",
    "qiskit_op_tapered_10_arr = qiskit_op_tapered_10.to_matrix() * HARTREE_TO_EV\n",
    "qiskit_op_tapered_11_arr = qiskit_op_tapered_11.to_matrix() * HARTREE_TO_EV\n",
    "\n",
    "eigvals = np.linalg.eigh(qiskit_op_arr)[0]\n",
    "eigvals_tapered_00 = np.linalg.eigh(qiskit_op_tapered_00_arr)[0]\n",
    "eigvals_tapered_01 = np.linalg.eigh(qiskit_op_tapered_01_arr)[0]\n",
    "eigvals_tapered_10 = np.linalg.eigh(qiskit_op_tapered_10_arr)[0]\n",
    "eigvals_tapered_11 = np.linalg.eigh(qiskit_op_tapered_11_arr)[0]\n",
    "print(eigvals)\n",
    "print(eigvals_tapered_00)\n",
    "print(eigvals_tapered_01)\n",
    "print(eigvals_tapered_10)\n",
    "print(eigvals_tapered_11)"
   ]
  },
  {
   "cell_type": "code",
   "execution_count": 156,
   "id": "6db8db5c",
   "metadata": {},
   "outputs": [
    {
     "name": "stdout",
     "output_type": "stream",
     "text": [
      "-7.509157198656667 * IIII\n",
      "+ 0.15592409180744818 * IZIZ\n",
      "- 0.014015945283564694 * ZXZZ\n",
      "+ 0.014015945283564694 * ZXZI\n",
      "+ 0.1559240918074481 * ZIZI\n",
      "- 0.014015945283564694 * XZZI\n",
      "+ 0.014015945283564694 * XZII\n",
      "- 0.0150398228134703 * IZII\n",
      "- 0.015039822813470303 * ZIII\n",
      "+ 0.12182774215821793 * ZZZZ\n",
      "- 0.012144897228058425 * IXIZ\n",
      "+ 0.012144897228058425 * IXII\n",
      "- 0.012144897228058425 * XIZZ\n",
      "+ 0.012144897228058425 * XIIZ\n",
      "+ 0.003265995499655414 * YYIZ\n",
      "- 0.003265995499655414 * YYZZ\n",
      "- 0.003265995499655414 * YYII\n",
      "+ 0.003265995499655414 * YYZI\n",
      "+ 0.052636515285500896 * IIIZ\n",
      "+ 0.055902510785156304 * ZZIZ\n",
      "+ 0.0018710427514141413 * IXZZ\n",
      "- 0.0018710427514141413 * IXZI\n",
      "+ 0.055902510785156304 * ZZZI\n",
      "+ 0.0018710427514141413 * XIZI\n",
      "- 0.0018710427514141413 * XIII\n",
      "+ 0.052636515285500896 * IIZI\n",
      "+ 0.08447056807294723 * ZZII\n"
     ]
    }
   ],
   "source": [
    "print(qiskit_op_new)"
   ]
  },
  {
   "cell_type": "code",
   "execution_count": 119,
   "id": "d17c47bf",
   "metadata": {},
   "outputs": [
    {
     "name": "stdout",
     "output_type": "stream",
     "text": [
      "-7.509157198656667 * II\n",
      "+ 0.15592409180744818 * IZ\n",
      "- 0.014015945283564694 * ZZ\n",
      "+ 0.014015945283564694 * ZI\n",
      "+ 0.1559240918074481 * ZI\n",
      "- 0.014015945283564694 * ZI\n",
      "+ 0.014015945283564694 * II\n",
      "- 0.0150398228134703 * II\n",
      "- 0.015039822813470303 * II\n",
      "+ 0.12182774215821793 * ZZ\n",
      "- 0.012144897228058425 * IZ\n",
      "+ 0.012144897228058425 * II\n",
      "- 0.012144897228058425 * ZZ\n",
      "+ 0.012144897228058425 * IZ\n",
      "+ 0.003265995499655414 * IZ\n",
      "- 0.003265995499655414 * ZZ\n",
      "- 0.003265995499655414 * II\n",
      "+ 0.003265995499655414 * ZI\n",
      "+ 0.052636515285500896 * IZ\n",
      "+ 0.055902510785156304 * IZ\n",
      "+ 0.0018710427514141413 * ZZ\n",
      "- 0.0018710427514141413 * ZI\n",
      "+ 0.055902510785156304 * ZI\n",
      "+ 0.0018710427514141413 * ZI\n",
      "- 0.0018710427514141413 * II\n",
      "+ 0.052636515285500896 * ZI\n",
      "+ 0.08447056807294723 * II\n"
     ]
    }
   ],
   "source": [
    "print(qiskit_op_tapered)"
   ]
  },
  {
   "cell_type": "code",
   "execution_count": 26,
   "id": "155f1a53",
   "metadata": {},
   "outputs": [
    {
     "name": "stdout",
     "output_type": "stream",
     "text": [
      "[ True False]\n"
     ]
    }
   ],
   "source": [
    "print(Pauli('IX').x)"
   ]
  },
  {
   "cell_type": "code",
   "execution_count": 164,
   "id": "94846162",
   "metadata": {},
   "outputs": [
    {
     "name": "stdout",
     "output_type": "stream",
     "text": [
      "PauliTable: ['ZX']\n"
     ]
    }
   ],
   "source": [
    "pauli_table = PauliTable([1, 0, 0, 1])\n",
    "print(pauli_table)"
   ]
  },
  {
   "cell_type": "code",
   "execution_count": 167,
   "id": "b6b1fd44",
   "metadata": {},
   "outputs": [
    {
     "data": {
      "text/plain": [
       "[array([[ 0.+0.j,  1.+0.j,  0.+0.j,  0.+0.j],\n",
       "        [ 1.+0.j,  0.+0.j,  0.+0.j,  0.+0.j],\n",
       "        [ 0.+0.j,  0.+0.j,  0.+0.j, -1.+0.j],\n",
       "        [ 0.+0.j,  0.+0.j, -1.+0.j,  0.+0.j]])]"
      ]
     },
     "execution_count": 167,
     "metadata": {},
     "output_type": "execute_result"
    }
   ],
   "source": [
    "pauli_table.to_matrix()"
   ]
  },
  {
   "cell_type": "code",
   "execution_count": 168,
   "id": "54f6f312",
   "metadata": {},
   "outputs": [
    {
     "name": "stderr",
     "output_type": "stream",
     "text": [
      "/home/snsunx/anaconda3/envs/qiskit/lib/python3.8/site-packages/qiskit/quantum_info/operators/symplectic/pauli.py:195: DeprecationWarning: Initializing Pauli from `Pauli(z=z, x=x)` kwargs is deprecated as of version 0.17.0 and will be removed no earlier than 3 months after the release date. Use tuple initialization `Pauli((z, x))` instead.\n",
      "  base_z, base_x, base_phase = self._from_array_deprecated(z, x)\n"
     ]
    }
   ],
   "source": [
    "pauli = Pauli(x=[1, 0], z=[0, 1])"
   ]
  },
  {
   "cell_type": "code",
   "execution_count": 169,
   "id": "f9bf9a83",
   "metadata": {},
   "outputs": [
    {
     "data": {
      "text/plain": [
       "array([[ 0.+0.j,  1.+0.j,  0.+0.j,  0.+0.j],\n",
       "       [ 1.+0.j,  0.+0.j,  0.+0.j,  0.+0.j],\n",
       "       [ 0.+0.j,  0.+0.j,  0.+0.j, -1.+0.j],\n",
       "       [ 0.+0.j,  0.+0.j, -1.+0.j,  0.+0.j]])"
      ]
     },
     "execution_count": 169,
     "metadata": {},
     "output_type": "execute_result"
    }
   ],
   "source": [
    "pauli.to_matrix()"
   ]
  },
  {
   "cell_type": "code",
   "execution_count": 178,
   "id": "6fdb6b03",
   "metadata": {},
   "outputs": [
    {
     "data": {
      "text/plain": [
       "array([[ True, False]])"
      ]
     },
     "execution_count": 178,
     "metadata": {},
     "output_type": "execute_result"
    }
   ],
   "source": [
    "PauliTable.from_labels(['ZX']).X"
   ]
  },
  {
   "cell_type": "code",
   "execution_count": 185,
   "id": "726ba8b8",
   "metadata": {},
   "outputs": [],
   "source": [
    "sp = qiskit_op.primitive"
   ]
  },
  {
   "cell_type": "code",
   "execution_count": 189,
   "id": "baeb9650",
   "metadata": {},
   "outputs": [
    {
     "data": {
      "text/plain": [
       "PauliSumOp(SparsePauliOp([[False, False, False, False, False, False, False, False],\n",
       "               [False, False, False, False,  True, False, False, False],\n",
       "               [ True, False,  True, False,  True,  True,  True, False],\n",
       "               [ True, False,  True, False, False,  True, False, False],\n",
       "               [False, False, False, False, False,  True, False, False],\n",
       "               [False,  True, False,  True, False,  True,  True,  True],\n",
       "               [False,  True, False,  True, False, False,  True, False],\n",
       "               [False, False, False, False, False, False,  True, False],\n",
       "               [False, False, False, False, False, False, False,  True],\n",
       "               [False, False, False, False,  True,  True, False, False],\n",
       "               [ True, False,  True, False,  True, False,  True, False],\n",
       "               [ True, False,  True, False, False, False, False, False],\n",
       "               [False,  True, False,  True,  True,  True,  True,  True],\n",
       "               [False,  True, False,  True,  True, False,  True, False],\n",
       "               [ True,  True,  True,  True,  True, False, False,  True],\n",
       "               [ True,  True,  True,  True,  True,  True, False, False],\n",
       "               [ True,  True,  True,  True, False, False,  True,  True],\n",
       "               [ True,  True,  True,  True, False,  True,  True, False],\n",
       "               [False, False, False, False,  True, False,  True, False],\n",
       "               [False, False, False, False,  True, False, False,  True],\n",
       "               [ True, False,  True, False,  True,  True,  True,  True],\n",
       "               [ True, False,  True, False, False,  True, False,  True],\n",
       "               [False, False, False, False, False,  True,  True, False],\n",
       "               [False,  True, False,  True, False,  True, False,  True],\n",
       "               [False,  True, False,  True, False, False, False, False],\n",
       "               [False, False, False, False, False,  True, False,  True],\n",
       "               [False, False, False, False, False, False,  True,  True]],\n",
       "              coeffs=[-7.50915720e+00+0.j,  1.55924092e-01+0.j,  1.40159453e-02+0.j,\n",
       "  1.40159453e-02+0.j,  1.55924092e-01+0.j,  1.40159453e-02+0.j,\n",
       "  1.40159453e-02+0.j, -1.50398228e-02+0.j, -1.50398228e-02+0.j,\n",
       "  1.21827742e-01+0.j,  1.21448972e-02+0.j,  1.21448972e-02+0.j,\n",
       "  1.21448972e-02+0.j,  1.21448972e-02+0.j,  3.26599550e-03+0.j,\n",
       " -3.26599550e-03+0.j, -3.26599550e-03+0.j,  3.26599550e-03+0.j,\n",
       "  5.26365153e-02+0.j,  5.59025108e-02+0.j, -1.87104275e-03+0.j,\n",
       " -1.87104275e-03+0.j,  5.59025108e-02+0.j, -1.87104275e-03+0.j,\n",
       " -1.87104275e-03+0.j,  5.26365153e-02+0.j,  8.44705681e-02+0.j]), coeff=1.0)"
      ]
     },
     "execution_count": 189,
     "metadata": {},
     "output_type": "execute_result"
    }
   ],
   "source": [
    "PrimitiveOp(sp)"
   ]
  },
  {
   "cell_type": "code",
   "execution_count": 190,
   "id": "feb0223a",
   "metadata": {},
   "outputs": [
    {
     "data": {
      "text/plain": [
       "PauliSumOp(SparsePauliOp([[False, False, False, False, False, False, False, False],\n",
       "               [False, False, False, False,  True, False, False, False],\n",
       "               [ True, False,  True, False,  True,  True,  True, False],\n",
       "               [ True, False,  True, False, False,  True, False, False],\n",
       "               [False, False, False, False, False,  True, False, False],\n",
       "               [False,  True, False,  True, False,  True,  True,  True],\n",
       "               [False,  True, False,  True, False, False,  True, False],\n",
       "               [False, False, False, False, False, False,  True, False],\n",
       "               [False, False, False, False, False, False, False,  True],\n",
       "               [False, False, False, False,  True,  True, False, False],\n",
       "               [ True, False,  True, False,  True, False,  True, False],\n",
       "               [ True, False,  True, False, False, False, False, False],\n",
       "               [False,  True, False,  True,  True,  True,  True,  True],\n",
       "               [False,  True, False,  True,  True, False,  True, False],\n",
       "               [ True,  True,  True,  True,  True, False, False,  True],\n",
       "               [ True,  True,  True,  True,  True,  True, False, False],\n",
       "               [ True,  True,  True,  True, False, False,  True,  True],\n",
       "               [ True,  True,  True,  True, False,  True,  True, False],\n",
       "               [False, False, False, False,  True, False,  True, False],\n",
       "               [False, False, False, False,  True, False, False,  True],\n",
       "               [ True, False,  True, False,  True,  True,  True,  True],\n",
       "               [ True, False,  True, False, False,  True, False,  True],\n",
       "               [False, False, False, False, False,  True,  True, False],\n",
       "               [False,  True, False,  True, False,  True, False,  True],\n",
       "               [False,  True, False,  True, False, False, False, False],\n",
       "               [False, False, False, False, False,  True, False,  True],\n",
       "               [False, False, False, False, False, False,  True,  True]],\n",
       "              coeffs=[-7.50915720e+00+0.j,  1.55924092e-01+0.j,  1.40159453e-02+0.j,\n",
       "  1.40159453e-02+0.j,  1.55924092e-01+0.j,  1.40159453e-02+0.j,\n",
       "  1.40159453e-02+0.j, -1.50398228e-02+0.j, -1.50398228e-02+0.j,\n",
       "  1.21827742e-01+0.j,  1.21448972e-02+0.j,  1.21448972e-02+0.j,\n",
       "  1.21448972e-02+0.j,  1.21448972e-02+0.j,  3.26599550e-03+0.j,\n",
       " -3.26599550e-03+0.j, -3.26599550e-03+0.j,  3.26599550e-03+0.j,\n",
       "  5.26365153e-02+0.j,  5.59025108e-02+0.j, -1.87104275e-03+0.j,\n",
       " -1.87104275e-03+0.j,  5.59025108e-02+0.j, -1.87104275e-03+0.j,\n",
       " -1.87104275e-03+0.j,  5.26365153e-02+0.j,  8.44705681e-02+0.j]), coeff=1.0)"
      ]
     },
     "execution_count": 190,
     "metadata": {},
     "output_type": "execute_result"
    }
   ],
   "source": [
    "PauliSumOp(sp)"
   ]
  },
  {
   "cell_type": "code",
   "execution_count": null,
   "id": "d4e5686f",
   "metadata": {},
   "outputs": [],
   "source": []
  }
 ],
 "metadata": {
  "kernelspec": {
   "display_name": "Python (Qiskit)",
   "language": "python",
   "name": "qiskit"
  },
  "language_info": {
   "codemirror_mode": {
    "name": "ipython",
    "version": 3
   },
   "file_extension": ".py",
   "mimetype": "text/x-python",
   "name": "python",
   "nbconvert_exporter": "python",
   "pygments_lexer": "ipython3",
   "version": "3.8.10"
  }
 },
 "nbformat": 4,
 "nbformat_minor": 5
}
