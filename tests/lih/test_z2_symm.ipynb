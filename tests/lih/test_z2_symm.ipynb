{
 "cells": [
  {
   "cell_type": "code",
   "execution_count": 5,
   "source": [
    "import sys\r\n",
    "sys.path.append('../../src/')\r\n",
    "from typing import Union, Sequence, Optional\r\n",
    "\r\n",
    "import numpy as np\r\n",
    "from qiskit import *\r\n",
    "from ansatze import build_ne2_ansatz\r\n",
    "from hamiltonians import MolecularHamiltonian\r\n",
    "from qiskit.utils import QuantumInstance\r\n",
    "from greens_function import GreensFunction\r\n",
    "from tools import get_quantum_instance\r\n",
    "from constants import HARTREE_TO_EV\r\n",
    "from qiskit.opflow import PauliSumOp, PrimitiveOp, Z2Symmetries\r\n",
    "from qiskit.quantum_info import SparsePauliOp\r\n",
    "from qiskit.quantum_info import Pauli, PauliTable\r\n",
    "from tools import number_state_eigensolver"
   ],
   "outputs": [],
   "metadata": {}
  },
  {
   "cell_type": "code",
   "execution_count": 6,
   "source": [
    "ansatz = build_ne2_ansatz(4)\r\n",
    "hamiltonian = MolecularHamiltonian(\r\n",
    "    [['Li', (0, 0, 0)], ['H', (0, 0, 1.6)]], 'sto3g', \r\n",
    "    occupied_inds=[0], active_inds=[1, 2])\r\n",
    "qiskit_op = hamiltonian.qiskit_op\r\n",
    "number_state_eigensolver(hamiltonian, 1)[0] * HARTREE_TO_EV"
   ],
   "outputs": [
    {
     "output_type": "execute_result",
     "data": {
      "text/plain": [
       "array([-206.32171881, -206.32171881, -194.6801225 , -194.6801225 ])"
      ]
     },
     "metadata": {},
     "execution_count": 6
    }
   ],
   "metadata": {}
  },
  {
   "cell_type": "code",
   "execution_count": 7,
   "source": [
    "def apply_cnot_z2(pauli_sum_op: Union[PauliSumOp, SparsePauliOp], \r\n",
    "                  ctrl: int, \r\n",
    "                  targ: int) -> PauliSumOp:\r\n",
    "    if isinstance(pauli_sum_op, PauliSumOp):\r\n",
    "        prim_op = pauli_sum_op.primitive.copy()\r\n",
    "    elif isinstance(pauli_sum_op, SparsePauliOp):\r\n",
    "        prim_op = pauli_sum_op.copy()\r\n",
    "    else:\r\n",
    "        raise TypeError\r\n",
    "    coeffs = prim_op.coeffs.copy()\r\n",
    "    x_arr = prim_op.table.X.copy()\r\n",
    "    z_arr = prim_op.table.Z.copy()\r\n",
    "    n_paulis, n_qubits = x_arr.shape\r\n",
    "    \r\n",
    "    # Flip sign when the pauli is X_cZ_t or Y_cY_t\r\n",
    "    for i in range(n_paulis):\r\n",
    "        x = x_arr[i]\r\n",
    "        z = z_arr[i]\r\n",
    "        if z[targ] == x[ctrl] == True and z[ctrl] == x[targ]:\r\n",
    "            coeffs[i] *= -1\r\n",
    "    \r\n",
    "    x_arr[:, targ] ^= x_arr[:, ctrl] # forward on X part    \r\n",
    "    z_arr[:, ctrl] ^= z_arr[:, targ] # backward on Z part\r\n",
    "    \r\n",
    "    sparse_pauli_op = SparsePauliOp(np.hstack((x_arr, z_arr)), coeffs=coeffs)\r\n",
    "    pauli_sum_op_new = PauliSumOp(sparse_pauli_op)\r\n",
    "    return pauli_sum_op_new\r\n",
    "\r\n",
    "def taper(pauli_sum_op: Union[PauliSumOp, SparsePauliOp], \r\n",
    "          inds_tapered: Sequence[int],\r\n",
    "          init_state: Optional[Sequence[int]] = None) -> PauliSumOp:\r\n",
    "    if isinstance(pauli_sum_op, PauliSumOp):\r\n",
    "        prim_op = pauli_sum_op.primitive.copy()\r\n",
    "    elif isinstance(pauli_sum_op, SparsePauliOp):\r\n",
    "        prim_op = pauli_sum_op.copy()\r\n",
    "    else:\r\n",
    "        raise TypeError\r\n",
    "    coeffs = prim_op.coeffs.copy()\r\n",
    "    x_arr = prim_op.table.X.copy()\r\n",
    "    z_arr = prim_op.table.Z.copy()\r\n",
    "    n_paulis, n_qubits = x_arr.shape\r\n",
    "    n_tapered = len(inds_tapered)\r\n",
    "    if init_state is None:\r\n",
    "        init_state = [0] * n_tapered\r\n",
    "\r\n",
    "    for i in range(n_paulis):\r\n",
    "        z = z_arr[i]\r\n",
    "        # print(prim_op.table[i])\r\n",
    "        for j in range(n_tapered):\r\n",
    "            # print(\"j =\", j)\r\n",
    "            # print(z[n_qubits - 1 - j])\r\n",
    "            if z[j] == True and init_state[j] == 1: # Is this general?\r\n",
    "                coeffs[i] *= -1\r\n",
    "                # print(f\"{prim_op.table[i]} multiplied by -1\")\r\n",
    "\r\n",
    "    inds_kept = sorted(set(range(n_qubits)) - set(inds_tapered))\r\n",
    "    inds_kept = sorted([n_qubits - 1 - i for i in inds_kept]) # due to Qiskit qubit order\r\n",
    "    x_arr = x_arr[:, inds_kept]\r\n",
    "    z_arr = z_arr[:, inds_kept]\r\n",
    "    \r\n",
    "    sparse_pauli_op = SparsePauliOp(np.hstack((x_arr, z_arr)), coeffs=coeffs)\r\n",
    "    pauli_sum_op_new = PauliSumOp(sparse_pauli_op)\r\n",
    "    return pauli_sum_op_new"
   ],
   "outputs": [],
   "metadata": {}
  },
  {
   "cell_type": "code",
   "execution_count": 8,
   "source": [
    "qiskit_op_new = apply_cnot_z2(apply_cnot_z2(qiskit_op, 2, 0), 3, 1)\r\n",
    "qiskit_op_tapered_00 = taper(qiskit_op_new, [2, 3], init_state=[0, 0])\r\n",
    "qiskit_op_tapered_01 = taper(qiskit_op_new, [2, 3], init_state=[0, 1])\r\n",
    "qiskit_op_tapered_10 = taper(qiskit_op_new, [2, 3], init_state=[1, 0])\r\n",
    "qiskit_op_tapered_11 = taper(qiskit_op_new, [2, 3], init_state=[1, 1])"
   ],
   "outputs": [],
   "metadata": {}
  },
  {
   "cell_type": "code",
   "execution_count": 201,
   "source": [
    "qiskit_op_arr = qiskit_op.to_matrix() * HARTREE_TO_EV\r\n",
    "qiskit_op_tapered_00_arr = qiskit_op_tapered_00.to_matrix() * HARTREE_TO_EV\r\n",
    "qiskit_op_tapered_01_arr = qiskit_op_tapered_01.to_matrix() * HARTREE_TO_EV\r\n",
    "qiskit_op_tapered_10_arr = qiskit_op_tapered_10.to_matrix() * HARTREE_TO_EV\r\n",
    "qiskit_op_tapered_11_arr = qiskit_op_tapered_11.to_matrix() * HARTREE_TO_EV\r\n",
    "\r\n",
    "eigvals = np.linalg.eigh(qiskit_op_arr)[0]\r\n",
    "eigvals_tapered_00 = np.linalg.eigh(qiskit_op_tapered_00_arr)[0]\r\n",
    "eigvals_tapered_01 = np.linalg.eigh(qiskit_op_tapered_01_arr)[0]\r\n",
    "eigvals_tapered_10 = np.linalg.eigh(qiskit_op_tapered_10_arr)[0]\r\n",
    "eigvals_tapered_11 = np.linalg.eigh(qiskit_op_tapered_11_arr)[0]\r\n",
    "print(eigvals)\r\n",
    "print(eigvals_tapered_00)\r\n",
    "print(eigvals_tapered_01)\r\n",
    "print(eigvals_tapered_10)\r\n",
    "print(eigvals_tapered_11)"
   ],
   "outputs": [
    {
     "output_type": "stream",
     "name": "stdout",
     "text": [
      "[-213.9394244  -211.80955735 -211.80955735 -210.12598445 -210.12598445\n",
      " -210.12598445 -209.73727191 -206.32171881 -206.32171881 -204.526909\n",
      " -204.526909   -200.48123171 -194.99412728 -194.6801225  -194.6801225\n",
      " -185.14660667]\n",
      "[-210.12598445 -210.12598445 -200.48123171 -185.14660667]\n",
      "[-211.80955735 -206.32171881 -204.526909   -194.6801225 ]\n",
      "[-211.80955735 -206.32171881 -204.526909   -194.6801225 ]\n",
      "[-213.9394244  -210.12598445 -209.73727191 -194.99412728]\n"
     ]
    }
   ],
   "metadata": {}
  },
  {
   "cell_type": "code",
   "execution_count": 10,
   "source": [
    "print(qiskit_op_new[:5])"
   ],
   "outputs": [
    {
     "output_type": "stream",
     "name": "stdout",
     "text": [
      "-7.509157198656697 * IIII\n",
      "+ 0.1559240918074194 * IZIZ\n",
      "- 0.014015945283725094 * ZXZZ\n",
      "+ 0.014015945283725094 * ZXZI\n",
      "+ 0.1559240918074194 * ZIZI\n"
     ]
    }
   ],
   "metadata": {}
  },
  {
   "cell_type": "code",
   "execution_count": 119,
   "source": [
    "print(qiskit_op_tapered)"
   ],
   "outputs": [
    {
     "output_type": "stream",
     "name": "stdout",
     "text": [
      "-7.509157198656667 * II\n",
      "+ 0.15592409180744818 * IZ\n",
      "- 0.014015945283564694 * ZZ\n",
      "+ 0.014015945283564694 * ZI\n",
      "+ 0.1559240918074481 * ZI\n",
      "- 0.014015945283564694 * ZI\n",
      "+ 0.014015945283564694 * II\n",
      "- 0.0150398228134703 * II\n",
      "- 0.015039822813470303 * II\n",
      "+ 0.12182774215821793 * ZZ\n",
      "- 0.012144897228058425 * IZ\n",
      "+ 0.012144897228058425 * II\n",
      "- 0.012144897228058425 * ZZ\n",
      "+ 0.012144897228058425 * IZ\n",
      "+ 0.003265995499655414 * IZ\n",
      "- 0.003265995499655414 * ZZ\n",
      "- 0.003265995499655414 * II\n",
      "+ 0.003265995499655414 * ZI\n",
      "+ 0.052636515285500896 * IZ\n",
      "+ 0.055902510785156304 * IZ\n",
      "+ 0.0018710427514141413 * ZZ\n",
      "- 0.0018710427514141413 * ZI\n",
      "+ 0.055902510785156304 * ZI\n",
      "+ 0.0018710427514141413 * ZI\n",
      "- 0.0018710427514141413 * II\n",
      "+ 0.052636515285500896 * ZI\n",
      "+ 0.08447056807294723 * II\n"
     ]
    }
   ],
   "metadata": {}
  },
  {
   "cell_type": "code",
   "execution_count": 26,
   "source": [
    "print(Pauli('IX').x)"
   ],
   "outputs": [
    {
     "output_type": "stream",
     "name": "stdout",
     "text": [
      "[ True False]\n"
     ]
    }
   ],
   "metadata": {}
  },
  {
   "cell_type": "code",
   "execution_count": 164,
   "source": [
    "pauli_table = PauliTable([1, 0, 0, 1])\r\n",
    "print(pauli_table)"
   ],
   "outputs": [
    {
     "output_type": "stream",
     "name": "stdout",
     "text": [
      "PauliTable: ['ZX']\n"
     ]
    }
   ],
   "metadata": {}
  },
  {
   "cell_type": "code",
   "execution_count": 167,
   "source": [
    "pauli_table.to_matrix()"
   ],
   "outputs": [
    {
     "output_type": "execute_result",
     "data": {
      "text/plain": [
       "[array([[ 0.+0.j,  1.+0.j,  0.+0.j,  0.+0.j],\n",
       "        [ 1.+0.j,  0.+0.j,  0.+0.j,  0.+0.j],\n",
       "        [ 0.+0.j,  0.+0.j,  0.+0.j, -1.+0.j],\n",
       "        [ 0.+0.j,  0.+0.j, -1.+0.j,  0.+0.j]])]"
      ]
     },
     "metadata": {},
     "execution_count": 167
    }
   ],
   "metadata": {}
  },
  {
   "cell_type": "code",
   "execution_count": 168,
   "source": [
    "pauli = Pauli(x=[1, 0], z=[0, 1])"
   ],
   "outputs": [
    {
     "output_type": "stream",
     "name": "stderr",
     "text": [
      "/home/snsunx/anaconda3/envs/qiskit/lib/python3.8/site-packages/qiskit/quantum_info/operators/symplectic/pauli.py:195: DeprecationWarning: Initializing Pauli from `Pauli(z=z, x=x)` kwargs is deprecated as of version 0.17.0 and will be removed no earlier than 3 months after the release date. Use tuple initialization `Pauli((z, x))` instead.\n",
      "  base_z, base_x, base_phase = self._from_array_deprecated(z, x)\n"
     ]
    }
   ],
   "metadata": {}
  },
  {
   "cell_type": "code",
   "execution_count": 169,
   "source": [
    "pauli.to_matrix()"
   ],
   "outputs": [
    {
     "output_type": "execute_result",
     "data": {
      "text/plain": [
       "array([[ 0.+0.j,  1.+0.j,  0.+0.j,  0.+0.j],\n",
       "       [ 1.+0.j,  0.+0.j,  0.+0.j,  0.+0.j],\n",
       "       [ 0.+0.j,  0.+0.j,  0.+0.j, -1.+0.j],\n",
       "       [ 0.+0.j,  0.+0.j, -1.+0.j,  0.+0.j]])"
      ]
     },
     "metadata": {},
     "execution_count": 169
    }
   ],
   "metadata": {}
  },
  {
   "cell_type": "code",
   "execution_count": 40,
   "source": [
    "SparsePauliOp(PauliTable.from_labels(['ZX'])).to_matrix()"
   ],
   "outputs": [
    {
     "output_type": "execute_result",
     "data": {
      "text/plain": [
       "array([[ 0.+0.j,  1.+0.j,  0.+0.j,  0.+0.j],\n",
       "       [ 1.+0.j,  0.+0.j,  0.+0.j,  0.+0.j],\n",
       "       [ 0.+0.j,  0.+0.j,  0.+0.j, -1.+0.j],\n",
       "       [ 0.+0.j,  0.+0.j, -1.+0.j,  0.+0.j]])"
      ]
     },
     "metadata": {},
     "execution_count": 40
    }
   ],
   "metadata": {}
  },
  {
   "cell_type": "code",
   "execution_count": 185,
   "source": [
    "sp = qiskit_op.primitive"
   ],
   "outputs": [],
   "metadata": {}
  },
  {
   "cell_type": "code",
   "execution_count": 189,
   "source": [
    "PrimitiveOp(sp)"
   ],
   "outputs": [
    {
     "output_type": "execute_result",
     "data": {
      "text/plain": [
       "PauliSumOp(SparsePauliOp([[False, False, False, False, False, False, False, False],\n",
       "               [False, False, False, False,  True, False, False, False],\n",
       "               [ True, False,  True, False,  True,  True,  True, False],\n",
       "               [ True, False,  True, False, False,  True, False, False],\n",
       "               [False, False, False, False, False,  True, False, False],\n",
       "               [False,  True, False,  True, False,  True,  True,  True],\n",
       "               [False,  True, False,  True, False, False,  True, False],\n",
       "               [False, False, False, False, False, False,  True, False],\n",
       "               [False, False, False, False, False, False, False,  True],\n",
       "               [False, False, False, False,  True,  True, False, False],\n",
       "               [ True, False,  True, False,  True, False,  True, False],\n",
       "               [ True, False,  True, False, False, False, False, False],\n",
       "               [False,  True, False,  True,  True,  True,  True,  True],\n",
       "               [False,  True, False,  True,  True, False,  True, False],\n",
       "               [ True,  True,  True,  True,  True, False, False,  True],\n",
       "               [ True,  True,  True,  True,  True,  True, False, False],\n",
       "               [ True,  True,  True,  True, False, False,  True,  True],\n",
       "               [ True,  True,  True,  True, False,  True,  True, False],\n",
       "               [False, False, False, False,  True, False,  True, False],\n",
       "               [False, False, False, False,  True, False, False,  True],\n",
       "               [ True, False,  True, False,  True,  True,  True,  True],\n",
       "               [ True, False,  True, False, False,  True, False,  True],\n",
       "               [False, False, False, False, False,  True,  True, False],\n",
       "               [False,  True, False,  True, False,  True, False,  True],\n",
       "               [False,  True, False,  True, False, False, False, False],\n",
       "               [False, False, False, False, False,  True, False,  True],\n",
       "               [False, False, False, False, False, False,  True,  True]],\n",
       "              coeffs=[-7.50915720e+00+0.j,  1.55924092e-01+0.j,  1.40159453e-02+0.j,\n",
       "  1.40159453e-02+0.j,  1.55924092e-01+0.j,  1.40159453e-02+0.j,\n",
       "  1.40159453e-02+0.j, -1.50398228e-02+0.j, -1.50398228e-02+0.j,\n",
       "  1.21827742e-01+0.j,  1.21448972e-02+0.j,  1.21448972e-02+0.j,\n",
       "  1.21448972e-02+0.j,  1.21448972e-02+0.j,  3.26599550e-03+0.j,\n",
       " -3.26599550e-03+0.j, -3.26599550e-03+0.j,  3.26599550e-03+0.j,\n",
       "  5.26365153e-02+0.j,  5.59025108e-02+0.j, -1.87104275e-03+0.j,\n",
       " -1.87104275e-03+0.j,  5.59025108e-02+0.j, -1.87104275e-03+0.j,\n",
       " -1.87104275e-03+0.j,  5.26365153e-02+0.j,  8.44705681e-02+0.j]), coeff=1.0)"
      ]
     },
     "metadata": {},
     "execution_count": 189
    }
   ],
   "metadata": {}
  },
  {
   "cell_type": "code",
   "execution_count": 190,
   "source": [
    "PauliSumOp(sp)"
   ],
   "outputs": [
    {
     "output_type": "execute_result",
     "data": {
      "text/plain": [
       "PauliSumOp(SparsePauliOp([[False, False, False, False, False, False, False, False],\n",
       "               [False, False, False, False,  True, False, False, False],\n",
       "               [ True, False,  True, False,  True,  True,  True, False],\n",
       "               [ True, False,  True, False, False,  True, False, False],\n",
       "               [False, False, False, False, False,  True, False, False],\n",
       "               [False,  True, False,  True, False,  True,  True,  True],\n",
       "               [False,  True, False,  True, False, False,  True, False],\n",
       "               [False, False, False, False, False, False,  True, False],\n",
       "               [False, False, False, False, False, False, False,  True],\n",
       "               [False, False, False, False,  True,  True, False, False],\n",
       "               [ True, False,  True, False,  True, False,  True, False],\n",
       "               [ True, False,  True, False, False, False, False, False],\n",
       "               [False,  True, False,  True,  True,  True,  True,  True],\n",
       "               [False,  True, False,  True,  True, False,  True, False],\n",
       "               [ True,  True,  True,  True,  True, False, False,  True],\n",
       "               [ True,  True,  True,  True,  True,  True, False, False],\n",
       "               [ True,  True,  True,  True, False, False,  True,  True],\n",
       "               [ True,  True,  True,  True, False,  True,  True, False],\n",
       "               [False, False, False, False,  True, False,  True, False],\n",
       "               [False, False, False, False,  True, False, False,  True],\n",
       "               [ True, False,  True, False,  True,  True,  True,  True],\n",
       "               [ True, False,  True, False, False,  True, False,  True],\n",
       "               [False, False, False, False, False,  True,  True, False],\n",
       "               [False,  True, False,  True, False,  True, False,  True],\n",
       "               [False,  True, False,  True, False, False, False, False],\n",
       "               [False, False, False, False, False,  True, False,  True],\n",
       "               [False, False, False, False, False, False,  True,  True]],\n",
       "              coeffs=[-7.50915720e+00+0.j,  1.55924092e-01+0.j,  1.40159453e-02+0.j,\n",
       "  1.40159453e-02+0.j,  1.55924092e-01+0.j,  1.40159453e-02+0.j,\n",
       "  1.40159453e-02+0.j, -1.50398228e-02+0.j, -1.50398228e-02+0.j,\n",
       "  1.21827742e-01+0.j,  1.21448972e-02+0.j,  1.21448972e-02+0.j,\n",
       "  1.21448972e-02+0.j,  1.21448972e-02+0.j,  3.26599550e-03+0.j,\n",
       " -3.26599550e-03+0.j, -3.26599550e-03+0.j,  3.26599550e-03+0.j,\n",
       "  5.26365153e-02+0.j,  5.59025108e-02+0.j, -1.87104275e-03+0.j,\n",
       " -1.87104275e-03+0.j,  5.59025108e-02+0.j, -1.87104275e-03+0.j,\n",
       " -1.87104275e-03+0.j,  5.26365153e-02+0.j,  8.44705681e-02+0.j]), coeff=1.0)"
      ]
     },
     "metadata": {},
     "execution_count": 190
    }
   ],
   "metadata": {}
  },
  {
   "cell_type": "code",
   "execution_count": 213,
   "source": [
    "x_ops = SparsePauliOp(PauliTable.from_labels(['XIII', 'IXII', 'IIXI', 'IIIX']))\r\n",
    "y_ops = SparsePauliOp(PauliTable.from_labels(['YIII', 'IYII', 'IIYI', 'IIIY']))"
   ],
   "outputs": [],
   "metadata": {}
  },
  {
   "cell_type": "code",
   "execution_count": 217,
   "source": [
    "x_ops_trans = apply_cnot_z2(apply_cnot_z2(x_ops, 2, 0), 3, 1).primitive.table.to_labels()\r\n",
    "y_ops_trans = apply_cnot_z2(apply_cnot_z2(y_ops, 2, 0), 3, 1).primitive.table.to_labels()\r\n",
    "print(x_ops_trans)\r\n",
    "print(y_ops_trans)"
   ],
   "outputs": [
    {
     "output_type": "stream",
     "name": "stdout",
     "text": [
      "['XIXI', 'IXIX', 'IIXI', 'IIIX']\n",
      "['YIXI', 'IYIX', 'ZIYI', 'IZIY']\n"
     ]
    }
   ],
   "metadata": {}
  },
  {
   "cell_type": "code",
   "execution_count": 2,
   "source": [
    "table = PauliTable.from_labels(['ZX'])"
   ],
   "outputs": [],
   "metadata": {}
  },
  {
   "cell_type": "code",
   "execution_count": 3,
   "source": [
    "table.X"
   ],
   "outputs": [
    {
     "output_type": "execute_result",
     "data": {
      "text/plain": [
       "array([[ True, False]])"
      ]
     },
     "metadata": {},
     "execution_count": 3
    }
   ],
   "metadata": {}
  },
  {
   "cell_type": "code",
   "execution_count": 4,
   "source": [
    "table.Z"
   ],
   "outputs": [
    {
     "output_type": "execute_result",
     "data": {
      "text/plain": [
       "array([[False,  True]])"
      ]
     },
     "metadata": {},
     "execution_count": 4
    }
   ],
   "metadata": {}
  },
  {
   "cell_type": "code",
   "execution_count": 12,
   "source": [
    "import numpy as np\r\n",
    "Pauli('ZIZI').to_matrix()"
   ],
   "outputs": [
    {
     "output_type": "execute_result",
     "data": {
      "text/plain": [
       "array([[ 1.+0.j,  0.+0.j,  0.+0.j,  0.+0.j,  0.+0.j,  0.+0.j,  0.+0.j,\n",
       "         0.+0.j,  0.+0.j,  0.+0.j,  0.+0.j,  0.+0.j,  0.+0.j,  0.+0.j,\n",
       "         0.+0.j,  0.+0.j],\n",
       "       [ 0.+0.j,  1.+0.j,  0.+0.j,  0.+0.j,  0.+0.j,  0.+0.j,  0.+0.j,\n",
       "         0.+0.j,  0.+0.j,  0.+0.j,  0.+0.j,  0.+0.j,  0.+0.j,  0.+0.j,\n",
       "         0.+0.j,  0.+0.j],\n",
       "       [ 0.+0.j,  0.+0.j, -1.+0.j,  0.+0.j,  0.+0.j,  0.+0.j,  0.+0.j,\n",
       "         0.+0.j,  0.+0.j,  0.+0.j,  0.+0.j,  0.+0.j,  0.+0.j,  0.+0.j,\n",
       "         0.+0.j,  0.+0.j],\n",
       "       [ 0.+0.j,  0.+0.j,  0.+0.j, -1.+0.j,  0.+0.j,  0.+0.j,  0.+0.j,\n",
       "         0.+0.j,  0.+0.j,  0.+0.j,  0.+0.j,  0.+0.j,  0.+0.j,  0.+0.j,\n",
       "         0.+0.j,  0.+0.j],\n",
       "       [ 0.+0.j,  0.+0.j,  0.+0.j,  0.+0.j,  1.+0.j,  0.+0.j,  0.+0.j,\n",
       "         0.+0.j,  0.+0.j,  0.+0.j,  0.+0.j,  0.+0.j,  0.+0.j,  0.+0.j,\n",
       "         0.+0.j,  0.+0.j],\n",
       "       [ 0.+0.j,  0.+0.j,  0.+0.j,  0.+0.j,  0.+0.j,  1.+0.j,  0.+0.j,\n",
       "         0.+0.j,  0.+0.j,  0.+0.j,  0.+0.j,  0.+0.j,  0.+0.j,  0.+0.j,\n",
       "         0.+0.j,  0.+0.j],\n",
       "       [ 0.+0.j,  0.+0.j,  0.+0.j,  0.+0.j,  0.+0.j,  0.+0.j, -1.+0.j,\n",
       "         0.+0.j,  0.+0.j,  0.+0.j,  0.+0.j,  0.+0.j,  0.+0.j,  0.+0.j,\n",
       "         0.+0.j,  0.+0.j],\n",
       "       [ 0.+0.j,  0.+0.j,  0.+0.j,  0.+0.j,  0.+0.j,  0.+0.j,  0.+0.j,\n",
       "        -1.+0.j,  0.+0.j,  0.+0.j,  0.+0.j,  0.+0.j,  0.+0.j,  0.+0.j,\n",
       "         0.+0.j,  0.+0.j],\n",
       "       [ 0.+0.j,  0.+0.j,  0.+0.j,  0.+0.j,  0.+0.j,  0.+0.j,  0.+0.j,\n",
       "         0.+0.j, -1.+0.j,  0.+0.j,  0.+0.j,  0.+0.j,  0.+0.j,  0.+0.j,\n",
       "         0.+0.j,  0.+0.j],\n",
       "       [ 0.+0.j,  0.+0.j,  0.+0.j,  0.+0.j,  0.+0.j,  0.+0.j,  0.+0.j,\n",
       "         0.+0.j,  0.+0.j, -1.+0.j,  0.+0.j,  0.+0.j,  0.+0.j,  0.+0.j,\n",
       "         0.+0.j,  0.+0.j],\n",
       "       [ 0.+0.j,  0.+0.j,  0.+0.j,  0.+0.j,  0.+0.j,  0.+0.j,  0.+0.j,\n",
       "         0.+0.j,  0.+0.j,  0.+0.j,  1.+0.j,  0.+0.j,  0.+0.j,  0.+0.j,\n",
       "         0.+0.j,  0.+0.j],\n",
       "       [ 0.+0.j,  0.+0.j,  0.+0.j,  0.+0.j,  0.+0.j,  0.+0.j,  0.+0.j,\n",
       "         0.+0.j,  0.+0.j,  0.+0.j,  0.+0.j,  1.+0.j,  0.+0.j,  0.+0.j,\n",
       "         0.+0.j,  0.+0.j],\n",
       "       [ 0.+0.j,  0.+0.j,  0.+0.j,  0.+0.j,  0.+0.j,  0.+0.j,  0.+0.j,\n",
       "         0.+0.j,  0.+0.j,  0.+0.j,  0.+0.j,  0.+0.j, -1.+0.j,  0.+0.j,\n",
       "         0.+0.j,  0.+0.j],\n",
       "       [ 0.+0.j,  0.+0.j,  0.+0.j,  0.+0.j,  0.+0.j,  0.+0.j,  0.+0.j,\n",
       "         0.+0.j,  0.+0.j,  0.+0.j,  0.+0.j,  0.+0.j,  0.+0.j, -1.+0.j,\n",
       "         0.+0.j,  0.+0.j],\n",
       "       [ 0.+0.j,  0.+0.j,  0.+0.j,  0.+0.j,  0.+0.j,  0.+0.j,  0.+0.j,\n",
       "         0.+0.j,  0.+0.j,  0.+0.j,  0.+0.j,  0.+0.j,  0.+0.j,  0.+0.j,\n",
       "         1.+0.j,  0.+0.j],\n",
       "       [ 0.+0.j,  0.+0.j,  0.+0.j,  0.+0.j,  0.+0.j,  0.+0.j,  0.+0.j,\n",
       "         0.+0.j,  0.+0.j,  0.+0.j,  0.+0.j,  0.+0.j,  0.+0.j,  0.+0.j,\n",
       "         0.+0.j,  1.+0.j]])"
      ]
     },
     "metadata": {},
     "execution_count": 12
    }
   ],
   "metadata": {}
  },
  {
   "cell_type": "code",
   "execution_count": 13,
   "source": [
    "from tools import *"
   ],
   "outputs": [],
   "metadata": {}
  },
  {
   "cell_type": "code",
   "execution_count": 30,
   "source": [
    "inds = get_number_state_indices(4, 2)\r\n",
    "print(inds)"
   ],
   "outputs": [
    {
     "output_type": "stream",
     "name": "stdout",
     "text": [
      "[3, 5, 6, 9, 10, 12]\n"
     ]
    }
   ],
   "metadata": {}
  },
  {
   "cell_type": "code",
   "execution_count": 31,
   "source": [
    "inds_rev = [15 - i for i in inds]\r\n",
    "print(inds_rev)"
   ],
   "outputs": [
    {
     "output_type": "stream",
     "name": "stdout",
     "text": [
      "[12, 10, 9, 6, 5, 3]\n"
     ]
    }
   ],
   "metadata": {}
  },
  {
   "cell_type": "code",
   "execution_count": 23,
   "source": [
    "vec[[1,3]] = 0.5"
   ],
   "outputs": [],
   "metadata": {}
  },
  {
   "cell_type": "code",
   "execution_count": 27,
   "source": [
    "get_number_state_indices(4, 3)"
   ],
   "outputs": [
    {
     "output_type": "execute_result",
     "data": {
      "text/plain": [
       "[7, 11, 13, 14]"
      ]
     },
     "metadata": {},
     "execution_count": 27
    }
   ],
   "metadata": {}
  },
  {
   "cell_type": "code",
   "execution_count": 28,
   "source": [
    "reversed([1, 2, 3])"
   ],
   "outputs": [
    {
     "output_type": "execute_result",
     "data": {
      "text/plain": [
       "<list_reverseiterator at 0x7fb0224c8070>"
      ]
     },
     "metadata": {},
     "execution_count": 28
    }
   ],
   "metadata": {}
  },
  {
   "cell_type": "code",
   "execution_count": 34,
   "source": [
    "'abcd'[::-1]"
   ],
   "outputs": [
    {
     "output_type": "execute_result",
     "data": {
      "text/plain": [
       "'dcba'"
      ]
     },
     "metadata": {},
     "execution_count": 34
    }
   ],
   "metadata": {}
  },
  {
   "cell_type": "code",
   "execution_count": 35,
   "source": [
    "Pauli('ZX').to_matrix()"
   ],
   "outputs": [
    {
     "output_type": "execute_result",
     "data": {
      "text/plain": [
       "array([[ 0.+0.j,  1.+0.j,  0.+0.j,  0.+0.j],\n",
       "       [ 1.+0.j,  0.+0.j,  0.+0.j,  0.+0.j],\n",
       "       [ 0.+0.j,  0.+0.j,  0.+0.j, -1.+0.j],\n",
       "       [ 0.+0.j,  0.+0.j, -1.+0.j,  0.+0.j]])"
      ]
     },
     "metadata": {},
     "execution_count": 35
    }
   ],
   "metadata": {}
  },
  {
   "cell_type": "code",
   "execution_count": 37,
   "source": [
    "sorted([1, 3, 2], reverse=True)"
   ],
   "outputs": [
    {
     "output_type": "execute_result",
     "data": {
      "text/plain": [
       "[3, 2, 1]"
      ]
     },
     "metadata": {},
     "execution_count": 37
    }
   ],
   "metadata": {}
  },
  {
   "cell_type": "code",
   "execution_count": null,
   "source": [],
   "outputs": [],
   "metadata": {}
  }
 ],
 "metadata": {
  "kernelspec": {
   "display_name": "Python (Qiskit)",
   "language": "python",
   "name": "qiskit"
  },
  "language_info": {
   "codemirror_mode": {
    "name": "ipython",
    "version": 3
   },
   "file_extension": ".py",
   "mimetype": "text/x-python",
   "name": "python",
   "nbconvert_exporter": "python",
   "pygments_lexer": "ipython3",
   "version": "3.8.10"
  }
 },
 "nbformat": 4,
 "nbformat_minor": 5
}