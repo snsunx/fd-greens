{
 "cells": [
  {
   "cell_type": "markdown",
   "id": "87dc9d0e",
   "metadata": {},
   "source": [
    "## Kosugi and Matsushita 2020\n",
    "\n",
    "Reproduce the self-energy and correlation energy in Fig. 6 of Kosugi and Matsushita 2020. "
   ]
  },
  {
   "cell_type": "code",
   "execution_count": 1,
   "id": "8702709f",
   "metadata": {},
   "outputs": [
    {
     "name": "stderr",
     "output_type": "stream",
     "text": [
      "/home/snsunx/.local/lib/python3.8/site-packages/pyscf/lib/misc.py:46: H5pyDeprecationWarning: Using default_file_mode other than 'r' is deprecated. Pass the mode to h5py.File() instead.\n",
      "  h5py.get_config().default_file_mode = 'a'\n"
     ]
    }
   ],
   "source": [
    "import sys\n",
    "sys.path.append('../../src/')\n",
    "from greens_function import *\n",
    "from ansatze import *\n",
    "from hamiltonians import MolecularHamiltonian\n",
    "from constants import *\n",
    "import matplotlib.pyplot as plt\n",
    "%matplotlib inline"
   ]
  },
  {
   "cell_type": "markdown",
   "id": "4bfce46f",
   "metadata": {},
   "source": [
    "### Main Calculations\n",
    "\n",
    "Calculate the ground state, $(N\\pm 1)$-electron states and the diagonal and off-diagonal transition amplitudes."
   ]
  },
  {
   "cell_type": "code",
   "execution_count": 2,
   "id": "1504931b",
   "metadata": {},
   "outputs": [
    {
     "name": "stdout",
     "output_type": "stream",
     "text": [
      "Start calculating the ground state using VQE\n",
      "Ground state energy = -214.332 eV\n",
      "Finish calculating the ground state using VQE\n",
      "Start calculating e/h states\n",
      "Finish calculating e/h states\n",
      "Start calculating diagonal transition amplitudes\n",
      "Finish calculating diagonal transition amplitudes\n",
      "Start calculating off-diagonal transition amplitudes\n",
      "Finish calculating off-diagonal transition amplitudes\n"
     ]
    }
   ],
   "source": [
    "# Run calculation for UCC1 ansatz\n",
    "ansatz = build_kosugi_lih_ansatz(ind=1)\n",
    "hamiltonian = MolecularHamiltonian(\n",
    "    [['Li', (0, 0, 0)], ['H', (0, 0, 1.6)]], 'sto3g')\n",
    "\n",
    "gf1 = GreensFunction(ansatz, hamiltonian)\n",
    "gf1.run()"
   ]
  },
  {
   "cell_type": "code",
   "execution_count": 3,
   "id": "c852400b",
   "metadata": {},
   "outputs": [
    {
     "name": "stdout",
     "output_type": "stream",
     "text": [
      "Start calculating the ground state using VQE\n",
      "Ground state energy = -213.976 eV\n",
      "Finish calculating the ground state using VQE\n",
      "Start calculating e/h states\n",
      "Finish calculating e/h states\n",
      "Start calculating diagonal transition amplitudes\n",
      "Finish calculating diagonal transition amplitudes\n",
      "Start calculating off-diagonal transition amplitudes\n",
      "Finish calculating off-diagonal transition amplitudes\n"
     ]
    }
   ],
   "source": [
    "# Run calculation for UCC2 ansatz\n",
    "ansatz = build_kosugi_lih_ansatz(ind=2)\n",
    "hamiltonian = MolecularHamiltonian(\n",
    "    [['Li', (0, 0, 0)], ['H', (0, 0, 1.6)]], 'sto3g')\n",
    "\n",
    "gf2 = GreensFunction(ansatz, hamiltonian)\n",
    "gf2.run()"
   ]
  },
  {
   "cell_type": "code",
   "execution_count": 4,
   "id": "4c59cc7f",
   "metadata": {},
   "outputs": [
    {
     "name": "stdout",
     "output_type": "stream",
     "text": [
      "Start calculating the ground state using VQE\n",
      "Ground state energy = -213.939 eV\n",
      "Finish calculating the ground state using VQE\n",
      "Start calculating e/h states\n",
      "Finish calculating e/h states\n",
      "Start calculating diagonal transition amplitudes\n",
      "Finish calculating diagonal transition amplitudes\n",
      "Start calculating off-diagonal transition amplitudes\n",
      "Finish calculating off-diagonal transition amplitudes\n"
     ]
    }
   ],
   "source": [
    "# Run calculation with HOMO-LUMO Hamiltonian\n",
    "ansatz = build_ne2_ansatz(4)\n",
    "hamiltonian = MolecularHamiltonian(\n",
    "    [['Li', (0, 0, 0)], ['H', (0, 0, 1.6)]], 'sto3g', \n",
    "    occupied_inds=[0], active_inds=[1, 2])\n",
    "\n",
    "gf_act = GreensFunction(ansatz, hamiltonian)\n",
    "gf_act.run()"
   ]
  },
  {
   "cell_type": "markdown",
   "id": "2dfbba5a",
   "metadata": {},
   "source": [
    "### Absorption Spectra\n",
    "\n",
    "Calculate the absorption spectra. Reproduce Fig. 5."
   ]
  },
  {
   "cell_type": "code",
   "execution_count": 5,
   "id": "a46f40cb",
   "metadata": {},
   "outputs": [],
   "source": [
    "omegas = np.arange(-30, 34, 0.1)\n",
    "A1_list = []\n",
    "A2_list = []\n",
    "A_act_list = []\n",
    "\n",
    "for omega in omegas:\n",
    "    A1 = gf1.compute_spectral_function(omega + 0.02j * HARTREE_TO_EV)\n",
    "    A2 = gf2.compute_spectral_function(omega + 0.02j * HARTREE_TO_EV)\n",
    "    #A_act = gf_act.compute_spectral_function(omega + 0.02j * HARTREE_TO_EV)\n",
    "    A1_list.append(A1)\n",
    "    A2_list.append(A2)\n",
    "    #A_act_list.append(A_act)"
   ]
  },
  {
   "cell_type": "code",
   "execution_count": 6,
   "id": "e00af30d",
   "metadata": {},
   "outputs": [
    {
     "data": {
      "image/png": "[encoded data removed]",
      "text/plain": [
       "<Figure size 432x288 with 1 Axes>"
      ]
     },
     "metadata": {
      "needs_background": "light"
     },
     "output_type": "display_data"
    }
   ],
   "source": [
    "plt.figure()\n",
    "plt.plot(omegas, A1_list, label='UCC1')\n",
    "plt.plot(omegas, A2_list, label='UCC2')\n",
    "#plt.plot(omega_list, A_act_list, label=\"HOMO-LUMO\")\n",
    "plt.xlabel('$\\omega$ (eV)')\n",
    "plt.ylabel(\"Absorption spectra (eV$^{-1}$)\")\n",
    "plt.legend()\n",
    "plt.show()"
   ]
  },
  {
   "cell_type": "markdown",
   "id": "3dd0ed53",
   "metadata": {},
   "source": [
    "### Self-energy\n",
    "\n",
    "Reproduce the self-energy in Fig. 6."
   ]
  },
  {
   "cell_type": "code",
   "execution_count": 7,
   "id": "3a18ca49",
   "metadata": {},
   "outputs": [],
   "source": [
    "omegas = np.arange(-30, 34, 0.1)\n",
    "Sigmas_real = []\n",
    "Sigmas_imag = []\n",
    "\n",
    "for omega in omegas:\n",
    "    Sigma = gf1.compute_self_energy(omega + 0.02j * HARTREE_TO_EV)\n",
    "    Sigmas_real.append(np.trace(Sigma).real)\n",
    "    Sigmas_imag.append(np.trace(Sigma).imag)"
   ]
  },
  {
   "cell_type": "code",
   "execution_count": 8,
   "id": "0687b477",
   "metadata": {},
   "outputs": [
    {
     "data": {
      "image/png": "[encoded data removed]",
      "text/plain": [
       "<Figure size 432x288 with 1 Axes>"
      ]
     },
     "metadata": {
      "needs_background": "light"
     },
     "output_type": "display_data"
    }
   ],
   "source": [
    "# Plot the trace of the self-energy\n",
    "fig = plt.figure()\n",
    "plt.axhline(0, color='k', ls=':')\n",
    "plt.axvline(0, color='k', ls=':')\n",
    "plt.plot(omegas, Sigmas_real, label='Real')\n",
    "plt.plot(omegas, Sigmas_imag, label='Imag')\n",
    "plt.xlabel('$\\omega$ (eV)')\n",
    "plt.ylabel('Tr($\\Sigma$) (eV)')\n",
    "plt.legend()\n",
    "fig.savefig('Sigma.png', dpi=300)\n",
    "#fig.savefig('Re_Sigma.png', dpi=300)\n",
    "#fig.savefig('Im_Sigma.png', dpi=300)"
   ]
  },
  {
   "cell_type": "markdown",
   "id": "71accc61",
   "metadata": {},
   "source": [
    "### Correlation Energy\n",
    "\n",
    "Reproduce the correlation energies in Fig. 6."
   ]
  },
  {
   "cell_type": "code",
   "execution_count": 11,
   "id": "7ffcfd2a",
   "metadata": {},
   "outputs": [
    {
     "name": "stdout",
     "output_type": "stream",
     "text": [
      "[-4.72739313e+00  1.05499676e-01  1.66961409e-01  2.43342503e-17\n",
      "  2.50225217e-18 -3.46772046e-02]\n",
      "[-4.72739313e+00  1.05499676e-01  1.66961409e-01  2.43342503e-17\n",
      "  2.50225217e-18 -3.46772046e-02]\n",
      "[ 1.05499676e-01 -1.49264622e+00  3.28928227e-02 -3.41792158e-18\n",
      " -8.57835487e-18 -5.27078787e-02]\n",
      "[ 1.05499676e-01 -1.49264622e+00  3.28928227e-02 -3.41792158e-18\n",
      " -8.57835487e-18 -5.27078787e-02]\n",
      "[ 1.66961409e-01  3.28928227e-02 -1.12554474e+00  1.05574660e-17\n",
      " -2.20418041e-17  3.04455720e-02]\n",
      "[ 1.66961409e-01  3.28928227e-02 -1.12554474e+00  1.05574660e-17\n",
      " -2.20418041e-17  3.04455720e-02]\n",
      "[ 2.43342503e-17 -3.41792158e-18  1.05574660e-17 -1.13579985e+00\n",
      " -1.11022302e-16 -1.04943922e-16]\n",
      "[ 2.43342503e-17 -3.41792158e-18  1.05574660e-17 -1.13579985e+00\n",
      " -1.11022302e-16 -1.04943922e-16]\n",
      "[ 2.50225217e-18 -8.57835487e-18 -2.20418041e-17 -1.38777878e-16\n",
      " -1.13579985e+00 -2.69269651e-17]\n",
      "[ 2.50225217e-18 -8.57835487e-18 -2.20418041e-17 -1.38777878e-16\n",
      " -1.13579985e+00 -2.69269651e-17]\n",
      "[-3.46772046e-02 -5.27078787e-02  3.04455720e-02 -1.04943922e-16\n",
      " -2.69269651e-17 -9.50966592e-01]\n",
      "[-3.46772046e-02 -5.27078787e-02  3.04455720e-02 -1.04943922e-16\n",
      " -2.69269651e-17 -9.50966592e-01]\n"
     ]
    }
   ],
   "source": [
    "# Calculate the correlation energy using UCC1 ansatz on LiH\n",
    "E1, E2 = gf1.compute_correlation_energy()"
   ]
  },
  {
   "cell_type": "code",
   "execution_count": 10,
   "id": "f6b0de94",
   "metadata": {},
   "outputs": [
    {
     "name": "stdout",
     "output_type": "stream",
     "text": [
      "The one-electron correlation energy is 0.510528 eV.\n",
      "The two-electron correlation energy is -0.909728 eV.\n"
     ]
    }
   ],
   "source": [
    "# Print the one- and two-electron correlation energies\n",
    "print(f\"The one-electron correlation energy is {E1.real:.6f} eV.\")\n",
    "print(f\"The two-electron correlation energy is {E2.real:.6f} eV.\")"
   ]
  },
  {
   "cell_type": "markdown",
   "id": "14ada506",
   "metadata": {
    "heading_collapsed": true
   },
   "source": [
    "### Scratch"
   ]
  },
  {
   "cell_type": "code",
   "execution_count": null,
   "id": "168889f3",
   "metadata": {
    "hidden": true
   },
   "outputs": [],
   "source": [
    "from scipy.linalg import logm, sqrtm, expm\n",
    "\n",
    "dim = 501\n",
    "cosphi = np.diag([1] * (dim - 1), 1) / 2\n",
    "cosphi += np.diag([1] * (dim - 1), -1) / 2\n",
    "phi = -1j * logm(cosphi + sqrtm(cosphi @ cosphi - np.eye(dim)))\n",
    "\n",
    "result = (expm(1j * phi) + expm(-1j * phi)) / 2\n",
    "np.linalg.norm(result - cosphi)"
   ]
  },
  {
   "cell_type": "code",
   "execution_count": null,
   "id": "6d5c0e7e",
   "metadata": {
    "hidden": true
   },
   "outputs": [],
   "source": [
    "HARTREE_TO_EV"
   ]
  },
  {
   "cell_type": "code",
   "execution_count": null,
   "id": "43280acf",
   "metadata": {
    "hidden": true
   },
   "outputs": [],
   "source": [
    "gf1.molecule.one_body_integrals.shape"
   ]
  },
  {
   "cell_type": "code",
   "execution_count": null,
   "id": "11f5d901",
   "metadata": {
    "hidden": true
   },
   "outputs": [],
   "source": []
  }
 ],
 "metadata": {
  "interpreter": {
   "hash": "74d15b697cfff7ba72e30f05e571a87a823ebc6b9272e4046629e37f652ef05f"
  },
  "kernelspec": {
   "display_name": "Python (Qiskit)",
   "language": "python",
   "name": "qiskit"
  },
  "language_info": {
   "codemirror_mode": {
    "name": "ipython",
    "version": 3
   },
   "file_extension": ".py",
   "mimetype": "text/x-python",
   "name": "python",
   "nbconvert_exporter": "python",
   "pygments_lexer": "ipython3",
   "version": "3.8.10"
  }
 },
 "nbformat": 4,
 "nbformat_minor": 5
}
